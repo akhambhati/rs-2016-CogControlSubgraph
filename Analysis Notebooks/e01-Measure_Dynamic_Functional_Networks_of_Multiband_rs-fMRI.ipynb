{
 "cells": [
  {
   "cell_type": "markdown",
   "metadata": {
    "toc": "true"
   },
   "source": [
    "# Table of Contents\n",
    " <p><div class=\"lev1\"><a href=\"#Multiband-Resting-State-fMRI-1\"><span class=\"toc-item-num\">1&nbsp;&nbsp;</span>Multiband Resting-State fMRI</a></div><div class=\"lev2\"><a href=\"#Summary-1.1\"><span class=\"toc-item-num\">1.1&nbsp;&nbsp;</span>Summary</a></div><div class=\"lev2\"><a href=\"#Methodology-1.2\"><span class=\"toc-item-num\">1.2&nbsp;&nbsp;</span>Methodology</a></div><div class=\"lev1\"><a href=\"#Measure-Dynamic-Functional-Connectivity-2\"><span class=\"toc-item-num\">2&nbsp;&nbsp;</span>Measure Dynamic Functional Connectivity</a></div><div class=\"lev2\"><a href=\"#Initialize-Environment-2.1\"><span class=\"toc-item-num\">2.1&nbsp;&nbsp;</span>Initialize Environment</a></div><div class=\"lev2\"><a href=\"#Generate-List-of-Data-2.2\"><span class=\"toc-item-num\">2.2&nbsp;&nbsp;</span>Generate List of Data</a></div><div class=\"lev2\"><a href=\"#Design-and-Run-DyNe-Pipeline-2.3\"><span class=\"toc-item-num\">2.3&nbsp;&nbsp;</span>Design and Run DyNe Pipeline</a></div><div class=\"lev3\"><a href=\"#Generate-Pipe-Definitions-(JSON-Files)-2.3.1\"><span class=\"toc-item-num\">2.3.1&nbsp;&nbsp;</span>Generate Pipe Definitions (JSON Files)</a></div><div class=\"lev3\"><a href=\"#Generate-Pipeline-Definitions-(JSON-File)-2.3.2\"><span class=\"toc-item-num\">2.3.2&nbsp;&nbsp;</span>Generate Pipeline Definitions (JSON File)</a></div><div class=\"lev3\"><a href=\"#Run-the-Pipeline-(in-Parallel)-2.3.3\"><span class=\"toc-item-num\">2.3.3&nbsp;&nbsp;</span>Run the Pipeline (in Parallel)</a></div><div class=\"lev2\"><a href=\"#Plot-Adjacency-Matrices-2.4\"><span class=\"toc-item-num\">2.4&nbsp;&nbsp;</span>Plot Adjacency Matrices</a></div>"
   ]
  },
  {
   "cell_type": "markdown",
   "metadata": {
    "heading_collapsed": true
   },
   "source": [
    "# Multiband Resting-State fMRI"
   ]
  },
  {
   "cell_type": "markdown",
   "metadata": {
    "heading_collapsed": true
   },
   "source": [
    "## Summary"
   ]
  },
  {
   "cell_type": "markdown",
   "metadata": {},
   "source": [
    "*__Introduction__*\n",
    "\n",
    "  * The brain is a complex organ that manifests a network of interactions, at the finer scale, between neurons and neuron populations, and at the meso-scale, between large functional domains. Over time, the pattern of interactions between brain regions change, describing a dynamic system capable of supporting cognition during tasks and at rest.\n",
    "  \n",
    "  * Recent advances in functional brain imaging make it possible to acquire images from multiple brain slices simultaneously, known as multiband imaging. \n",
    "  \n",
    "  * Multiband imaging improves the sampling frequency of the blood oxygenation level dependant (BOLD) signal from $\\approx$0.5 Hz to $\\approx$2.0 Hz. With faster sampling of the BOLD signal, we are able to examine functional interactions across whole brain at unprecendent temporal resolution.\n",
    "  \n",
    "  * Previous work has indicated that functional associations between low-frequency components of the fMRI signal (0–0.15 Hz) can be attributed to task-related functional connectivity, whereas associations between high-frequency components (0.2–0.4 Hz) cannot. This frequency specificity of task-relevant functional connectivity is likely to be due at least in part to the hemodynamic response function, which might act as a noninvertible bandpass filter on underlying neural activity.\n",
    "  \n",
    "*__References__*\n",
    "  - Pan, Wen-Ju, et al. \"Infraslow LFP correlates to resting-state fMRI BOLD signals.\" Neuroimage 74 (2013): 288-297.\n",
    "  - F. T. Sun, L. M. Miller, and M. D’Esposito, “Measuring interregional functional connectivity using coherence and partial coherence analyses of fMRI data.” Neuroimage 21 (2004): 647–658.\n",
    "\n"
   ]
  },
  {
   "cell_type": "markdown",
   "metadata": {
    "collapsed": true
   },
   "source": [
    "## Methodology"
   ]
  },
  {
   "cell_type": "markdown",
   "metadata": {},
   "source": [
    "*__Multi-Taper Coherence__*\n",
    "\n",
    "  * Multi-Taper methods are designed to limit the leakage of spectral power from other frequency bands into the frequency bands of interest. This is a critical concern when spectral properties of the signal are computed in discrete temporal windows. Different shapes of the temporal window can cause unwanted effects in the Fourier domain.\n",
    "\n",
    "  * The choice of window length and shape impacts the allowable frequency resolution of the signal power spectrum. Slepian sequences, or orthogonal, wave-like eigenfunctions, give the optimal windowing to achieve a spectral bandwidth resolution on the interval $[-W, W]$. To achieve this resolution, multiple sequences are required, such that the optimal number of Slepian sequences, $k\\approx2WT$, where $k$ is the number of Slepian sequences, $2W$ is the desired spectral resolution bandwidth, and $T$ is the duration of the window.\n",
    "  \n",
    "  * Suppose we wanted to estimate dynamic functional connectivity of fMRI in 30 second windows between 0.034 Hz and 0.167 Hz (i.e. a bandwidth resolution of 0.133 Hz), then the time-bandwidth product would be $4.0 = 0.133 Hz * 30 sec$, and the optimal number of tapers would be $2*4.0-1 = 7$.\n",
    "  \n",
    "   "
   ]
  },
  {
   "cell_type": "markdown",
   "metadata": {},
   "source": [
    "# Measure Dynamic Functional Connectivity"
   ]
  },
  {
   "cell_type": "markdown",
   "metadata": {
    "heading_collapsed": true
   },
   "source": [
    "## Initialize Environment"
   ]
  },
  {
   "cell_type": "code",
   "execution_count": null,
   "metadata": {
    "collapsed": false
   },
   "outputs": [],
   "source": [
    "try:\n",
    "    %load_ext autoreload\n",
    "    %autoreload 2\n",
    "    \n",
    "except:\n",
    "    print 'NOT IPYTHON'\n",
    "\n",
    "from __future__ import division\n",
    "from IPython.display import display\n",
    "\n",
    "import os\n",
    "import sys\n",
    "import glob\n",
    "import json\n",
    "\n",
    "import numpy as np\n",
    "import pandas as pd\n",
    "import h5py\n",
    "import matplotlib.pyplot as plt\n",
    "\n",
    "import dyne\n",
    "\n",
    "path_CoreData = '/Users/akhambhati/Remotes/hoth_research/CoreData/fMRI_multiband-mmattar/restdata'\n",
    "path_PeriphData = '/Users/akhambhati/Remotes/hoth_research/PeriphData/ds-NMF_Subnetworks'\n",
    "path_ExpData = path_PeriphData + '/e01-Dyne_FuncNetw'\n",
    "\n",
    "for path in [path_CoreData, path_PeriphData, path_ExpData]:\n",
    "    if not os.path.exists(path):\n",
    "        print('Path: {}, does not exist'.format(path))\n",
    "        os.makedirs(path)"
   ]
  },
  {
   "cell_type": "markdown",
   "metadata": {
    "heading_collapsed": true
   },
   "source": [
    "## Generate List of Data"
   ]
  },
  {
   "cell_type": "code",
   "execution_count": null,
   "metadata": {
    "collapsed": false
   },
   "outputs": [],
   "source": [
    "subjs = [full_subj_path.split('/')[-1]\n",
    "         for full_subj_path in glob.iglob('{}/Subjects/*'.format(path_CoreData))]\n",
    "\n",
    "subj_ids = {}\n",
    "proc_path = []\n",
    "for subj in subjs:\n",
    "    run_path = '{}/Subjects/{}/*'.format(path_CoreData, subj)\n",
    "\n",
    "    subj_ids[subj] = []\n",
    "    run_ids = {}\n",
    "    for full_run_path in glob.iglob(run_path):\n",
    "        subj_ids[subj].append(full_run_path.split('/')[-1])"
   ]
  },
  {
   "cell_type": "markdown",
   "metadata": {},
   "source": [
    "## Design and Run DyNe Pipeline"
   ]
  },
  {
   "cell_type": "markdown",
   "metadata": {},
   "source": [
    "### Generate Pipe Definitions (JSON Files)"
   ]
  },
  {
   "cell_type": "code",
   "execution_count": null,
   "metadata": {
    "collapsed": false
   },
   "outputs": [],
   "source": [
    "for subj, dates in subj_ids.items():\n",
    "    for date_id in dates:\n",
    "        \n",
    "        # Generate path to the input fMRI clip\n",
    "        proc_item = '{}/Subjects/{}/{}/HOA112.csv'.format(path_CoreData,\n",
    "                                                          subj, date_id)\n",
    "        if not os.path.exists(proc_item):\n",
    "            raise IOError('Procesing item: {}, not found'.format(proc_item))\n",
    "        \n",
    "        # Define the pipe definitions\n",
    "        pipe_defs = {\n",
    "            \"SOURCE\": {\n",
    "                \"PIPE_NAME\": \"Raw_fMRI\",\n",
    "                \"PIPE_MODULE\": \"dyne.interface.offline\",\n",
    "                \"PIPE_CLASS\": \"CSVSignal\",\n",
    "                \"PIPE_PARAM\": {\n",
    "                    \"signal_path\": proc_item,\n",
    "                    \"sample_frequency\": 2.0,\n",
    "                    \"win_len\": 30.0,\n",
    "                    \"win_disp\": 30.0\n",
    "                }\n",
    "            },\n",
    "\n",
    "            \"FLOW\": [\n",
    "                {\n",
    "                    \"PIPE_NAME\": \"MTCoh\",\n",
    "                    \"PIPE_MODULE\": \"dyne.adjacency.coherence\",\n",
    "                    \"PIPE_CLASS\": \"MTCoh\",\n",
    "                    \"PIPE_PARAM\": {\n",
    "                        \"time_band\": 2.5,\n",
    "                        \"n_taper\": 4,\n",
    "                        \"cf\": [0.034, 0.20]\n",
    "                    }\n",
    "                },\n",
    "\n",
    "                {\n",
    "                    \"PIPE_NAME\": \"CachePipeline\",\n",
    "                    \"PIPE_MODULE\": \"dyne.logger.cache\",\n",
    "                    \"PIPE_CLASS\": \"SaveHDF\",\n",
    "                    \"PIPE_PARAM\": {\n",
    "                        \"path\": \"{}/{}.{}.dyne_output.hdf\".format(path_ExpData,\n",
    "                                                                  subj, \n",
    "                                                                  date_id)\n",
    "                    }\n",
    "                }\n",
    "            ],\n",
    "\n",
    "            \"LOG\": {\n",
    "                \"PATH\": \"{}/{}.{}.dyne_log.csv\".format(path_ExpData,\n",
    "                                                       subj, \n",
    "                                                       date_id)\n",
    "            }\n",
    "        }\n",
    "        json.dump(pipe_defs, open(\"{}/{}.{}.dyne_pdef.json\".format(path_ExpData,\n",
    "                                                                   subj,\n",
    "                                                                   date_id),\n",
    "                                  'w'))"
   ]
  },
  {
   "cell_type": "markdown",
   "metadata": {
    "collapsed": true
   },
   "source": [
    "### Generate Pipeline Definitions (JSON File)"
   ]
  },
  {
   "cell_type": "code",
   "execution_count": null,
   "metadata": {
    "collapsed": true
   },
   "outputs": [],
   "source": [
    "pipeline_def = {\n",
    "    \"Raw_fMRI\": [\n",
    "        \"MTCoh\"],\n",
    "\n",
    "    \"MTCoh\": [\n",
    "        \"CachePipeline\"],\n",
    "    \n",
    "    \"CachePipeline\": [\n",
    "        \"None\"]\n",
    "}\n",
    "json.dump(pipeline_def, open(\"{}/fmri_coh_pipeline.json\".format(path_ExpData),\n",
    "                             \"w\"))"
   ]
  },
  {
   "cell_type": "markdown",
   "metadata": {},
   "source": [
    "### Run the Pipeline (in Parallel) \n",
    "*__WARNING: Will Delete Existing Output__*"
   ]
  },
  {
   "cell_type": "code",
   "execution_count": null,
   "metadata": {
    "collapsed": false
   },
   "outputs": [],
   "source": [
    "# Remove all existing output (retains pipe/pipeline definitions)\n",
    "rm_outp = glob.glob(\"{}/*.dyne_output.hdf\".format(path_ExpData))\n",
    "rm_logs = glob.glob(\"{}/*.dyne_log.csv\".format(path_ExpData))\n",
    "\n",
    "for rm_type in [rm_outp, rm_logs]:\n",
    "    for path in rm_type:\n",
    "        os.remove(path)"
   ]
  },
  {
   "cell_type": "code",
   "execution_count": null,
   "metadata": {
    "collapsed": false,
    "scrolled": true
   },
   "outputs": [],
   "source": [
    "from multiprocessing import Pool\n",
    "parallel_run = False\n",
    "\n",
    "# Generate list of all pipe_defs and the pipeline architecture\n",
    "proc_pdef = glob.glob(\"{}/*.*.dyne_pdef.json\".format(path_ExpData))\n",
    "proc_pline = \"{}/fmri_coh_pipeline.json\".format(path_ExpData)\n",
    "\n",
    "# Setup helper function to map pipeline run\n",
    "def _start_helper(path):\n",
    "    print('\\nProcessing: {}'.format(path))\n",
    "    pline = dyne.pipeline.Pipeline(pipe_defs_json=path,\n",
    "                                   pipeline_def_json=proc_pline)\n",
    "    pline.start_pipeline()\n",
    "    \n",
    "\n",
    "if parallel_run:\n",
    "    mp = Pool(6)\n",
    "    mp.map(_start_helper, proc_pdef)\n",
    "else:\n",
    "    map(_start_helper, proc_pdef)"
   ]
  },
  {
   "cell_type": "markdown",
   "metadata": {},
   "source": [
    "## Plot Adjacency Matrices"
   ]
  },
  {
   "cell_type": "code",
   "execution_count": null,
   "metadata": {
    "collapsed": false
   },
   "outputs": [],
   "source": [
    "# Set Parameters\n",
    "n_adj = 200\n",
    "n_row = int(np.sqrt(n_adj))\n",
    "n_col = int(np.ceil(n_adj / n_row))\n",
    "\n",
    "# Get list of DyNe Output Files\n",
    "dyne_outp = glob.glob(\"{}/*.dyne_output.hdf\".format(path_ExpData))\n",
    "dyne_logs = glob.glob(\"{}/*.dyne_log.csv\".format(path_ExpData))\n",
    "\n",
    "# Figure\n",
    "%matplotlib inline\n",
    "plt.figure(figsize=(16, 12))\n",
    "for ii in xrange(n_adj):\n",
    "    outp, log = np.random.permutation(zip(dyne_outp, dyne_logs))[0]\n",
    "    ix = np.random.randint(0, 20)\n",
    "    \n",
    "    df_log = pd.read_csv(log, delimiter=',')\n",
    "    pipe_hash = df_log[df_log.PIPE_NAME == 'MTCoh'].DOWNSTREAM_HASH[0]\n",
    "    \n",
    "    df_outp = h5py.File(outp, 'r')\n",
    "    data = df_outp[pipe_hash]['data'][ix, :, :]\n",
    "    df_outp.close()\n",
    "\n",
    "    ax = plt.subplot(n_row, n_col, ii+1)\n",
    "    ax.matshow(data)\n",
    "    ax.set_axis_off()"
   ]
  }
 ],
 "metadata": {
  "kernelspec": {
   "display_name": "Env-NMFSubnet",
   "language": "python",
   "name": "env-nmfsubnet"
  },
  "language_info": {
   "codemirror_mode": {
    "name": "ipython",
    "version": 2
   },
   "file_extension": ".py",
   "mimetype": "text/x-python",
   "name": "python",
   "nbconvert_exporter": "python",
   "pygments_lexer": "ipython2",
   "version": "2.7.11"
  },
  "latex_envs": {
   "bibliofile": "biblio.bib",
   "cite_by": "apalike",
   "current_citInitial": 1,
   "eqLabelWithNumbers": true,
   "eqNumInitial": 0
  },
  "toc": {
   "toc_cell": true,
   "toc_number_sections": true,
   "toc_section_display": "none",
   "toc_threshold": 6,
   "toc_window_display": true
  }
 },
 "nbformat": 4,
 "nbformat_minor": 0
}
