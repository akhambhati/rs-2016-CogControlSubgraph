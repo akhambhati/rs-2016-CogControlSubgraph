{
 "cells": [
  {
   "cell_type": "markdown",
   "metadata": {
    "toc": "true"
   },
   "source": [
    "# Table of Contents\n",
    " <p><div class=\"lev1\"><a href=\"#Measure-Dynamic-Functional-Connectivity\"><span class=\"toc-item-num\">1&nbsp;&nbsp;</span>Measure Dynamic Functional Connectivity</a></div><div class=\"lev2\"><a href=\"#Initialize-Environment\"><span class=\"toc-item-num\">1.1&nbsp;&nbsp;</span>Initialize Environment</a></div><div class=\"lev2\"><a href=\"#Load-CoreData\"><span class=\"toc-item-num\">1.2&nbsp;&nbsp;</span>Load CoreData</a></div><div class=\"lev2\"><a href=\"#Compute-Functional-Connectivity\"><span class=\"toc-item-num\">1.3&nbsp;&nbsp;</span>Compute Functional Connectivity</a></div><div class=\"lev3\"><a href=\"#Process-Navon\"><span class=\"toc-item-num\">1.3.1&nbsp;&nbsp;</span>Process Navon</a></div><div class=\"lev3\"><a href=\"#Process-Stroop\"><span class=\"toc-item-num\">1.3.2&nbsp;&nbsp;</span>Process Stroop</a></div>"
   ]
  },
  {
   "cell_type": "markdown",
   "metadata": {},
   "source": [
    "# Measure Dynamic Functional Connectivity"
   ]
  },
  {
   "cell_type": "markdown",
   "metadata": {},
   "source": [
    "## Initialize Environment"
   ]
  },
  {
   "cell_type": "code",
   "execution_count": 1,
   "metadata": {
    "ExecuteTime": {
     "end_time": "2016-07-11T14:05:55.424076",
     "start_time": "2016-07-11T14:05:54.538690"
    },
    "collapsed": false
   },
   "outputs": [],
   "source": [
    "try:\n",
    "    %load_ext autoreload\n",
    "    %autoreload 2\n",
    "    \n",
    "except:\n",
    "    print 'NOT IPYTHON'\n",
    "\n",
    "from __future__ import division\n",
    "from IPython.display import display\n",
    "\n",
    "import os\n",
    "import sys\n",
    "import glob\n",
    "import json\n",
    "\n",
    "import numpy as np\n",
    "import pandas as pd\n",
    "import scipy.io as io\n",
    "import h5py\n",
    "import matplotlib.pyplot as plt\n",
    "\n",
    "import scipy.stats as stats\n",
    "\n",
    "path_CoreData = '/home/akhambhati/JagHome/hoth_research/CoreData/Sync_Cog_Control-Medaglia'\n",
    "path_PeriphData = '/home/akhambhati/JagHome/hoth_research/PeriphData/ds-NMF_CogControl'\n",
    "path_ExpData = path_PeriphData + '/e01-FuncNetw'\n",
    "\n",
    "for path in [path_CoreData, path_PeriphData, path_ExpData]:\n",
    "    if not os.path.exists(path):\n",
    "        print('Path: {}, does not exist'.format(path))\n",
    "        os.makedirs(path)"
   ]
  },
  {
   "cell_type": "markdown",
   "metadata": {},
   "source": [
    "## Load CoreData"
   ]
  },
  {
   "cell_type": "code",
   "execution_count": 2,
   "metadata": {
    "ExecuteTime": {
     "end_time": "2016-07-11T14:06:04.105457",
     "start_time": "2016-07-11T14:05:56.888038"
    },
    "collapsed": false
   },
   "outputs": [],
   "source": [
    "df_navon = io.loadmat('{}/NavonBlockedSeriesScale125.mat'.format(path_CoreData), struct_as_record=False)\n",
    "df_stroop = io.loadmat('{}/StroopBlockedSeriesScale125.mat'.format(path_CoreData), struct_as_record=False)\n",
    "\n",
    "n_subj = 28\n",
    "n_fix_block = 12\n",
    "n_tsk_block = 6\n",
    "n_roi = 262"
   ]
  },
  {
   "cell_type": "markdown",
   "metadata": {},
   "source": [
    "## Compute Functional Connectivity"
   ]
  },
  {
   "cell_type": "markdown",
   "metadata": {},
   "source": [
    "### Process Navon"
   ]
  },
  {
   "cell_type": "code",
   "execution_count": 3,
   "metadata": {
    "ExecuteTime": {
     "end_time": "2016-07-11T14:06:20.487878",
     "start_time": "2016-07-11T14:06:13.609462"
    },
    "collapsed": false,
    "scrolled": false
   },
   "outputs": [],
   "source": [
    "for subj_id in xrange(n_subj):\n",
    "    proc_item = '{}/Subject_{}.Navon'.format(path_ExpData, subj_id)\n",
    "    \n",
    "    adj_rs_pos = np.zeros((n_tsk_block, n_roi, n_roi))\n",
    "    adj_rs_neg = np.zeros((n_tsk_block, n_roi, n_roi))    \n",
    "    adj_lo_pos = np.zeros((n_tsk_block, n_roi, n_roi))\n",
    "    adj_lo_neg = np.zeros((n_tsk_block, n_roi, n_roi))    \n",
    "    adj_hi_pos = np.zeros((n_tsk_block, n_roi, n_roi))\n",
    "    adj_hi_neg = np.zeros((n_tsk_block, n_roi, n_roi))    \n",
    "    \n",
    "    cnt = 0\n",
    "    for fix_block in xrange(0, n_fix_block, 2):\n",
    "        data = np.vstack((np.array(df_navon['data'][subj_id][fix_block+1].NFix, dtype='f'),\n",
    "                          np.array(df_navon['data'][subj_id][fix_block+2].NFix, dtype='f'))).T        \n",
    "        adj = np.corrcoef(data)\n",
    "        adj_rs_pos[cnt, :, :] = stats.threshold(adj, 0)\n",
    "        adj_rs_neg[cnt, :, :] = stats.threshold(-1*adj, 0)        \n",
    "        \n",
    "        cnt += 1\n",
    "        \n",
    "    for tsk_block in xrange(n_tsk_block):\n",
    "        data = np.array(df_navon['data'][subj_id][tsk_block].NS, dtype='f').T\n",
    "        adj = np.corrcoef(data)\n",
    "        adj_lo_pos[tsk_block, :, :] = stats.threshold(adj, 0)\n",
    "        adj_lo_neg[tsk_block, :, :] = stats.threshold(-1*adj, 0)        \n",
    "        \n",
    "        data = np.array(df_navon['data'][subj_id][tsk_block].S, dtype='f').T\n",
    "        adj = np.corrcoef(data)\n",
    "        adj_hi_pos[tsk_block, :, :] = stats.threshold(adj, 0)\n",
    "        adj_hi_neg[tsk_block, :, :] = stats.threshold(-1*adj, 0)        \n",
    "\n",
    "    np.savez(proc_item,\n",
    "             adj_rs_pos = adj_rs_pos,\n",
    "             adj_rs_neg = adj_rs_neg,\n",
    "             adj_lo_pos = adj_lo_pos,\n",
    "             adj_lo_neg = adj_lo_neg,\n",
    "             adj_hi_pos = adj_hi_pos,\n",
    "             adj_hi_neg = adj_hi_neg)"
   ]
  },
  {
   "cell_type": "markdown",
   "metadata": {},
   "source": [
    "### Process Stroop"
   ]
  },
  {
   "cell_type": "code",
   "execution_count": 4,
   "metadata": {
    "ExecuteTime": {
     "end_time": "2016-07-11T14:06:35.968865",
     "start_time": "2016-07-11T14:06:29.143247"
    },
    "collapsed": false
   },
   "outputs": [],
   "source": [
    "for subj_id in xrange(n_subj):\n",
    "    proc_item = '{}/Subject_{}.Stroop'.format(path_ExpData, subj_id)\n",
    "    \n",
    "    adj_rs_pos = np.zeros((n_tsk_block, n_roi, n_roi))\n",
    "    adj_rs_neg = np.zeros((n_tsk_block, n_roi, n_roi))    \n",
    "    adj_lo_pos = np.zeros((n_tsk_block, n_roi, n_roi))\n",
    "    adj_lo_neg = np.zeros((n_tsk_block, n_roi, n_roi))    \n",
    "    adj_hi_pos = np.zeros((n_tsk_block, n_roi, n_roi))\n",
    "    adj_hi_neg = np.zeros((n_tsk_block, n_roi, n_roi))    \n",
    "    \n",
    "    cnt = 0\n",
    "    for fix_block in xrange(0, n_fix_block, 2):\n",
    "        data = np.vstack((np.array(df_stroop['data'][subj_id][fix_block+1].SFix, dtype='f'),\n",
    "                          np.array(df_stroop['data'][subj_id][fix_block+2].SFix, dtype='f'))).T\n",
    "        adj = np.corrcoef(data)\n",
    "        adj_rs_pos[cnt, :, :] = stats.threshold(adj, 0)\n",
    "        adj_rs_neg[cnt, :, :] = stats.threshold(-1*adj, 0)        \n",
    "        \n",
    "        cnt += 1\n",
    "        \n",
    "    for tsk_block in xrange(n_tsk_block):\n",
    "        data = np.array(df_stroop['data'][subj_id][tsk_block].IE, dtype='f').T        \n",
    "        adj = np.corrcoef(data)\n",
    "        adj_lo_pos[tsk_block, :, :] = stats.threshold(adj, 0)\n",
    "        adj_lo_neg[tsk_block, :, :] = stats.threshold(-1*adj, 0)        \n",
    "        \n",
    "        data = np.array(df_stroop['data'][subj_id][tsk_block].E, dtype='f').T                \n",
    "        adj = np.corrcoef(data)\n",
    "        adj_hi_pos[tsk_block, :, :] = stats.threshold(adj, 0)\n",
    "        adj_hi_neg[tsk_block, :, :] = stats.threshold(-1*adj, 0)        \n",
    "\n",
    "    np.savez(proc_item,\n",
    "             adj_rs_pos = adj_rs_pos,\n",
    "             adj_rs_neg = adj_rs_neg,\n",
    "             adj_lo_pos = adj_lo_pos,\n",
    "             adj_lo_neg = adj_lo_neg,\n",
    "             adj_hi_pos = adj_hi_pos,\n",
    "             adj_hi_neg = adj_hi_neg)"
   ]
  },
  {
   "cell_type": "code",
   "execution_count": 5,
   "metadata": {
    "ExecuteTime": {
     "end_time": "2016-07-11T14:07:05.870229",
     "start_time": "2016-07-11T14:07:04.687654"
    },
    "collapsed": false
   },
   "outputs": [
    {
     "data": {
      "text/plain": [
       "(array([  2.00000000e+00,   2.00000000e+00,   2.00000000e+00,\n",
       "          0.00000000e+00,   2.00000000e+00,   8.00000000e+00,\n",
       "          1.20000000e+01,   4.00000000e+00,   1.60000000e+01,\n",
       "          1.20000000e+01,   1.00000000e+01,   1.80000000e+01,\n",
       "          3.60000000e+01,   1.20000000e+01,   2.60000000e+01,\n",
       "          1.60000000e+01,   3.60000000e+01,   2.60000000e+01,\n",
       "          3.40000000e+01,   3.80000000e+01,   2.80000000e+01,\n",
       "          2.40000000e+01,   2.80000000e+01,   1.80000000e+01,\n",
       "          1.40000000e+01,   1.20000000e+01,   1.80000000e+01,\n",
       "          1.60000000e+01,   8.00000000e+00,   2.00000000e+01,\n",
       "          1.60000000e+01,   8.00000000e+00,   1.20000000e+01,\n",
       "          1.80000000e+01,   6.00000000e+00,   1.00000000e+01,\n",
       "          1.40000000e+01,   1.20000000e+01,   1.00000000e+01,\n",
       "          1.20000000e+01,   2.80000000e+01,   2.00000000e+01,\n",
       "          2.20000000e+01,   1.80000000e+01,   4.00000000e+01,\n",
       "          4.20000000e+01,   3.20000000e+01,   4.80000000e+01,\n",
       "          3.00000000e+01,   6.80000000e+01,   8.20000000e+01,\n",
       "          8.20000000e+01,   9.60000000e+01,   1.04000000e+02,\n",
       "          1.26000000e+02,   1.28000000e+02,   1.36000000e+02,\n",
       "          1.78000000e+02,   1.84000000e+02,   1.92000000e+02,\n",
       "          2.28000000e+02,   2.82000000e+02,   3.62000000e+02,\n",
       "          4.04000000e+02,   3.88000000e+02,   4.50000000e+02,\n",
       "          4.82000000e+02,   5.54000000e+02,   6.34000000e+02,\n",
       "          7.44000000e+02,   8.86000000e+02,   1.04600000e+03,\n",
       "          1.16800000e+03,   1.26600000e+03,   1.49200000e+03,\n",
       "          1.70800000e+03,   1.68200000e+03,   1.92600000e+03,\n",
       "          2.21000000e+03,   2.43600000e+03,   2.68200000e+03,\n",
       "          2.95800000e+03,   2.97200000e+03,   3.12200000e+03,\n",
       "          3.31800000e+03,   3.49800000e+03,   3.53800000e+03,\n",
       "          3.64000000e+03,   3.59600000e+03,   3.37400000e+03,\n",
       "          3.17200000e+03,   2.87600000e+03,   2.55400000e+03,\n",
       "          1.81800000e+03,   1.30200000e+03,   7.78000000e+02,\n",
       "          3.88000000e+02,   1.40000000e+02,   3.20000000e+01,\n",
       "          2.66000000e+02]),\n",
       " array([-0.5079911 , -0.49291118, -0.47783127, -0.46275136, -0.44767145,\n",
       "        -0.43259154, -0.41751163, -0.40243172, -0.38735181, -0.3722719 ,\n",
       "        -0.35719199, -0.34211207, -0.32703216, -0.31195225, -0.29687234,\n",
       "        -0.28179243, -0.26671252, -0.25163261, -0.2365527 , -0.22147279,\n",
       "        -0.20639288, -0.19131297, -0.17623305, -0.16115314, -0.14607323,\n",
       "        -0.13099332, -0.11591341, -0.1008335 , -0.08575359, -0.07067368,\n",
       "        -0.05559377, -0.04051386, -0.02543394, -0.01035403,  0.00472588,\n",
       "         0.01980579,  0.0348857 ,  0.04996561,  0.06504552,  0.08012543,\n",
       "         0.09520534,  0.11028525,  0.12536516,  0.14044508,  0.15552499,\n",
       "         0.1706049 ,  0.18568481,  0.20076472,  0.21584463,  0.23092454,\n",
       "         0.24600445,  0.26108436,  0.27616427,  0.29124419,  0.3063241 ,\n",
       "         0.32140401,  0.33648392,  0.35156383,  0.36664374,  0.38172365,\n",
       "         0.39680356,  0.41188347,  0.42696338,  0.44204329,  0.45712321,\n",
       "         0.47220312,  0.48728303,  0.50236294,  0.51744285,  0.53252276,\n",
       "         0.54760267,  0.56268258,  0.57776249,  0.5928424 ,  0.60792232,\n",
       "         0.62300223,  0.63808214,  0.65316205,  0.66824196,  0.68332187,\n",
       "         0.69840178,  0.71348169,  0.7285616 ,  0.74364151,  0.75872142,\n",
       "         0.77380134,  0.78888125,  0.80396116,  0.81904107,  0.83412098,\n",
       "         0.84920089,  0.8642808 ,  0.87936071,  0.89444062,  0.90952053,\n",
       "         0.92460045,  0.93968036,  0.95476027,  0.96984018,  0.98492009,  1.        ]),\n",
       " <a list of 100 Patch objects>)"
      ]
     },
     "execution_count": 5,
     "metadata": {},
     "output_type": "execute_result"
    },
    {
     "data": {
      "image/png": "[encoded data removed]",
      "text/plain": [
       "<matplotlib.figure.Figure at 0x7f76fc0b4f90>"
      ]
     },
     "metadata": {},
     "output_type": "display_data"
    }
   ],
   "source": [
    "%matplotlib inline\n",
    "\n",
    "tt = 5\n",
    "plt.figure(figsize=(8,12))\n",
    "ax = plt.subplot(1,1,1); \n",
    "ax.hist(adj.reshape(-1), 100)"
   ]
  },
  {
   "cell_type": "code",
   "execution_count": 7,
   "metadata": {
    "ExecuteTime": {
     "end_time": "2016-07-11T14:07:34.141107",
     "start_time": "2016-07-11T14:07:33.413820"
    },
    "collapsed": false
   },
   "outputs": [
    {
     "data": {
      "text/plain": [
       "<matplotlib.colorbar.Colorbar instance at 0x7f76c628be60>"
      ]
     },
     "execution_count": 7,
     "metadata": {},
     "output_type": "execute_result"
    }
   ],
   "source": [
    "%matplotlib inline\n",
    "\n",
    "tt = 5\n",
    "plt.figure(figsize=(8,12))\n",
    "ax = plt.subplot(3,2,1); mat = ax.matshow(adj_rs_pos[tt, ...]); plt.colorbar(mat, ax=ax)\n",
    "ax = plt.subplot(3,2,2); mat = ax.matshow(adj_rs_neg[tt, ...]); plt.colorbar(mat, ax=ax)\n",
    "ax = plt.subplot(3,2,3); mat = ax.matshow(adj_lo_pos[tt, ...]); plt.colorbar(mat, ax=ax)\n",
    "ax = plt.subplot(3,2,4); mat = ax.matshow(adj_lo_neg[tt, ...]); plt.colorbar(mat, ax=ax)\n",
    "ax = plt.subplot(3,2,5); mat = ax.matshow(adj_hi_pos[tt, ...]); plt.colorbar(mat, ax=ax)\n",
    "ax = plt.subplot(3,2,6); mat = ax.matshow(adj_hi_neg[tt, ...]); plt.colorbar(mat, ax=ax)"
   ]
  },
  {
   "cell_type": "code",
   "execution_count": null,
   "metadata": {
    "collapsed": true
   },
   "outputs": [],
   "source": []
  }
 ],
 "metadata": {
  "kernelspec": {
   "display_name": "cb-nmfsubnet",
   "language": "python",
   "name": "cb-nmfsubnet"
  },
  "language_info": {
   "codemirror_mode": {
    "name": "ipython",
    "version": 2
   },
   "file_extension": ".py",
   "mimetype": "text/x-python",
   "name": "python",
   "nbconvert_exporter": "python",
   "pygments_lexer": "ipython2",
   "version": "2.7.12"
  },
  "latex_envs": {
   "bibliofile": "biblio.bib",
   "cite_by": "apalike",
   "current_citInitial": 1,
   "eqLabelWithNumbers": true,
   "eqNumInitial": 0
  },
  "toc": {
   "toc_cell": true,
   "toc_number_sections": true,
   "toc_section_display": "none",
   "toc_threshold": 6,
   "toc_window_display": true
  }
 },
 "nbformat": 4,
 "nbformat_minor": 0
}
