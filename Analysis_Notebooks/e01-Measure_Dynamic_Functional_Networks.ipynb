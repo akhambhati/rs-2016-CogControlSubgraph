{
 "cells": [
  {
   "cell_type": "markdown",
   "metadata": {
    "toc": "true"
   },
   "source": [
    "# Table of Contents\n",
    " <p><div class=\"lev1 toc-item\"><a href=\"#Measure-Dynamic-Functional-Connectivity\" data-toc-modified-id=\"Measure-Dynamic-Functional-Connectivity-1\"><span class=\"toc-item-num\">1&nbsp;&nbsp;</span>Measure Dynamic Functional Connectivity</a></div><div class=\"lev2 toc-item\"><a href=\"#Initialize-Environment\" data-toc-modified-id=\"Initialize-Environment-11\"><span class=\"toc-item-num\">1.1&nbsp;&nbsp;</span>Initialize Environment</a></div><div class=\"lev2 toc-item\"><a href=\"#Load-CoreData\" data-toc-modified-id=\"Load-CoreData-12\"><span class=\"toc-item-num\">1.2&nbsp;&nbsp;</span>Load CoreData</a></div><div class=\"lev2 toc-item\"><a href=\"#Compute-Functional-Connectivity\" data-toc-modified-id=\"Compute-Functional-Connectivity-13\"><span class=\"toc-item-num\">1.3&nbsp;&nbsp;</span>Compute Functional Connectivity</a></div><div class=\"lev3 toc-item\"><a href=\"#Functional-Connectivity-FuncDef\" data-toc-modified-id=\"Functional-Connectivity-FuncDef-131\"><span class=\"toc-item-num\">1.3.1&nbsp;&nbsp;</span>Functional Connectivity FuncDef</a></div><div class=\"lev3 toc-item\"><a href=\"#Process-Navon\" data-toc-modified-id=\"Process-Navon-132\"><span class=\"toc-item-num\">1.3.2&nbsp;&nbsp;</span>Process Navon</a></div><div class=\"lev3 toc-item\"><a href=\"#Process-Stroop\" data-toc-modified-id=\"Process-Stroop-133\"><span class=\"toc-item-num\">1.3.3&nbsp;&nbsp;</span>Process Stroop</a></div><div class=\"lev2 toc-item\"><a href=\"#Generate-Population-Configuration-Matrix\" data-toc-modified-id=\"Generate-Population-Configuration-Matrix-14\"><span class=\"toc-item-num\">1.4&nbsp;&nbsp;</span>Generate Population Configuration Matrix</a></div><div class=\"lev3 toc-item\"><a href=\"#Dictionary-of-all-adjacency-matrices\" data-toc-modified-id=\"Dictionary-of-all-adjacency-matrices-141\"><span class=\"toc-item-num\">1.4.1&nbsp;&nbsp;</span>Dictionary of all adjacency matrices</a></div><div class=\"lev3 toc-item\"><a href=\"#Create-Lookup-Table-and-Full-Configuration-Matrix\" data-toc-modified-id=\"Create-Lookup-Table-and-Full-Configuration-Matrix-142\"><span class=\"toc-item-num\">1.4.2&nbsp;&nbsp;</span>Create Lookup-Table and Full Configuration Matrix</a></div><div class=\"lev2 toc-item\"><a href=\"#NMF-Test\" data-toc-modified-id=\"NMF-Test-15\"><span class=\"toc-item-num\">1.5&nbsp;&nbsp;</span>NMF Test</a></div><div class=\"lev2 toc-item\"><a href=\"#Checking-Correlation-Biases\" data-toc-modified-id=\"Checking-Correlation-Biases-16\"><span class=\"toc-item-num\">1.6&nbsp;&nbsp;</span>Checking Correlation Biases</a></div><div class=\"lev3 toc-item\"><a href=\"#Across-Subjects\" data-toc-modified-id=\"Across-Subjects-161\"><span class=\"toc-item-num\">1.6.1&nbsp;&nbsp;</span>Across Subjects</a></div><div class=\"lev3 toc-item\"><a href=\"#Positive-vs-Negative\" data-toc-modified-id=\"Positive-vs-Negative-162\"><span class=\"toc-item-num\">1.6.2&nbsp;&nbsp;</span>Positive vs Negative</a></div><div class=\"lev3 toc-item\"><a href=\"#Fixation-vs-Task\" data-toc-modified-id=\"Fixation-vs-Task-163\"><span class=\"toc-item-num\">1.6.3&nbsp;&nbsp;</span>Fixation vs Task</a></div><div class=\"lev3 toc-item\"><a href=\"#Within-Task-(Hi-vs-Lo)\" data-toc-modified-id=\"Within-Task-(Hi-vs-Lo)-164\"><span class=\"toc-item-num\">1.6.4&nbsp;&nbsp;</span>Within Task (Hi vs Lo)</a></div><div class=\"lev3 toc-item\"><a href=\"#Between-Task-(Stroop-vs-Navon)\" data-toc-modified-id=\"Between-Task-(Stroop-vs-Navon)-165\"><span class=\"toc-item-num\">1.6.5&nbsp;&nbsp;</span>Between Task (Stroop vs Navon)</a></div><div class=\"lev1 toc-item\"><a href=\"#System-Level-Connectivity\" data-toc-modified-id=\"System-Level-Connectivity-2\"><span class=\"toc-item-num\">2&nbsp;&nbsp;</span>System-Level Connectivity</a></div><div class=\"lev2 toc-item\"><a href=\"#Assign-Lausanne-to-Yeo-Systems\" data-toc-modified-id=\"Assign-Lausanne-to-Yeo-Systems-21\"><span class=\"toc-item-num\">2.1&nbsp;&nbsp;</span>Assign Lausanne to Yeo Systems</a></div><div class=\"lev2 toc-item\"><a href=\"#System-Level-Adjacency-Matrices\" data-toc-modified-id=\"System-Level-Adjacency-Matrices-22\"><span class=\"toc-item-num\">2.2&nbsp;&nbsp;</span>System-Level Adjacency Matrices</a></div><div class=\"lev3 toc-item\"><a href=\"#Plot-Population-Average-Adjacency-Matrices-(Expr-+-Pos/Neg)\" data-toc-modified-id=\"Plot-Population-Average-Adjacency-Matrices-(Expr-+-Pos/Neg)-221\"><span class=\"toc-item-num\">2.2.1&nbsp;&nbsp;</span>Plot Population Average Adjacency Matrices (Expr + Pos/Neg)</a></div><div class=\"lev3 toc-item\"><a href=\"#Construct-System-Adjacency-Matrices\" data-toc-modified-id=\"Construct-System-Adjacency-Matrices-222\"><span class=\"toc-item-num\">2.2.2&nbsp;&nbsp;</span>Construct System Adjacency Matrices</a></div><div class=\"lev2 toc-item\"><a href=\"#Check-Contrasts\" data-toc-modified-id=\"Check-Contrasts-23\"><span class=\"toc-item-num\">2.3&nbsp;&nbsp;</span>Check Contrasts</a></div><div class=\"lev3 toc-item\"><a href=\"#Stroop-vs-Navon\" data-toc-modified-id=\"Stroop-vs-Navon-231\"><span class=\"toc-item-num\">2.3.1&nbsp;&nbsp;</span>Stroop vs Navon</a></div><div class=\"lev3 toc-item\"><a href=\"#Lo-vs-Hi\" data-toc-modified-id=\"Lo-vs-Hi-232\"><span class=\"toc-item-num\">2.3.2&nbsp;&nbsp;</span>Lo vs Hi</a></div>"
   ]
  },
  {
   "cell_type": "markdown",
   "metadata": {},
   "source": [
    "# Measure Dynamic Functional Connectivity"
   ]
  },
  {
   "cell_type": "markdown",
   "metadata": {},
   "source": [
    "## Initialize Environment"
   ]
  },
  {
   "cell_type": "code",
   "execution_count": null,
   "metadata": {},
   "outputs": [],
   "source": [
    "try:\n",
    "    %load_ext autoreload\n",
    "    %autoreload 2\n",
    "    %reset\n",
    "except:\n",
    "    print 'NOT IPYTHON'\n",
    "\n",
    "from __future__ import division\n",
    "\n",
    "import os\n",
    "import sys\n",
    "import glob\n",
    "\n",
    "import numpy as np\n",
    "import pandas as pd\n",
    "import seaborn as sns\n",
    "import scipy.stats as stats\n",
    "import statsmodels.api as sm\n",
    "import scipy.io as io\n",
    "import h5py\n",
    "import matplotlib\n",
    "import matplotlib.pyplot as plt\n",
    "\n",
    "sys.path.append('/Users/akhambhati/Developer/hoth_research/Echobase')\n",
    "import Echobase\n",
    "convert_conn_vec_to_adj_matr = Echobase.Network.Transforms.configuration.convert_conn_vec_to_adj_matr\n",
    "convert_adj_matr_to_cfg_matr = Echobase.Network.Transforms.configuration.convert_adj_matr_to_cfg_matr\n",
    "\n",
    "rcParams = Echobase.Plotting.fig_format.update_rcparams(matplotlib.rcParams)\n",
    "\n",
    "path_Remotes = '/Users/akhambhati/Remotes'\n",
    "path_CoreData = path_Remotes + '/CORE.fMRI_cogcontrol.medaglia'\n",
    "path_PeriphData = path_Remotes + '/RSRCH.NMF_CogControl'\n",
    "path_ExpData = path_PeriphData + '/e01-FuncNetw'\n",
    "path_AtlasData = path_Remotes + '/CORE.MRI_Atlases'\n",
    "\n",
    "for path in [path_CoreData, path_PeriphData, path_ExpData]:\n",
    "    if not os.path.exists(path):\n",
    "        print('Path: {}, does not exist'.format(path))\n",
    "        os.makedirs(path)"
   ]
  },
  {
   "cell_type": "markdown",
   "metadata": {},
   "source": [
    "## Load CoreData"
   ]
  },
  {
   "cell_type": "code",
   "execution_count": null,
   "metadata": {
    "collapsed": false
   },
   "outputs": [],
   "source": [
    "# Load BOLD\n",
    "df_navon = io.loadmat('{}/NavonBlockedSeriesScale125.mat'.format(path_CoreData), struct_as_record=False)\n",
    "df_stroop = io.loadmat('{}/StroopBlockedSeriesScale125.mat'.format(path_CoreData), struct_as_record=False)\n",
    "\n",
    "n_subj = 28\n",
    "n_fix_block = 12 # Disregard the final fixation block\n",
    "n_tsk_block = 6\n",
    "n_roi = 262\n",
    "bad_roi = [242]\n",
    "n_good_roi = n_roi-len(bad_roi)\n",
    "\n",
    "# Load Motion Data\n",
    "df_motion = {'Stroop': io.loadmat('{}/StroopMove.mat'.format(path_CoreData))['move'][:, 0],\n",
    "             'Navon': io.loadmat('{}/NavonMove.mat'.format(path_CoreData))['move'][:, 0]}\n",
    "\n",
    "# Load Behavioral Data\n",
    "df_blk = io.loadmat('{}/BlockwiseDataCorrectTrialsOnly.mat'.format(path_CoreData))\n",
    "bad_subj_ix = [1, 6]\n",
    "good_subj_ix = np.setdiff1d(np.arange(n_subj+2), bad_subj_ix)\n",
    "df_perf = {'Stroop': {'lo': {'accuracy': df_blk['StroopData'][good_subj_ix, 1, :],\n",
    "                             'meanRT': df_blk['StroopData'][good_subj_ix, 4, :],\n",
    "                             'medianRT': df_blk['StroopData'][good_subj_ix, 5, :]},\n",
    "                      'hi': {'accuracy': df_blk['StroopData'][good_subj_ix, 0, :],\n",
    "                             'meanRT': df_blk['StroopData'][good_subj_ix, 2, :],\n",
    "                             'medianRT': df_blk['StroopData'][good_subj_ix, 3, :]}\n",
    "                     },\n",
    "           'Navon' : {'lo': {'accuracy': df_blk['NavonData'][good_subj_ix, 1, :],\n",
    "                             'meanRT': df_blk['NavonData'][good_subj_ix, 4, :],\n",
    "                             'medianRT': df_blk['NavonData'][good_subj_ix, 5, :]},\n",
    "                      'hi': {'accuracy': df_blk['NavonData'][good_subj_ix, 0, :],\n",
    "                             'meanRT': df_blk['NavonData'][good_subj_ix, 2, :],\n",
    "                             'medianRT': df_blk['NavonData'][good_subj_ix, 3, :]}\n",
    "                     }\n",
    "          }"
   ]
  },
  {
   "cell_type": "markdown",
   "metadata": {},
   "source": [
    "## Compute Functional Connectivity"
   ]
  },
  {
   "cell_type": "markdown",
   "metadata": {},
   "source": [
    "### Functional Connectivity FuncDef"
   ]
  },
  {
   "cell_type": "code",
   "execution_count": null,
   "metadata": {
    "collapsed": false
   },
   "outputs": [],
   "source": [
    "def comp_fconn(bold, alpha=0.05, dependent=False):\n",
    "    n_roi, n_tr = bold.shape\n",
    "    \n",
    "    adj = np.arctanh(np.corrcoef(bold))\n",
    "    cfg_vec = convert_adj_matr_to_cfg_matr(adj.reshape(-1, n_roi, n_roi))[0, :]\n",
    "    \n",
    "    # Separate edges based on sign\n",
    "    cfg_vec_pos = cfg_vec.copy()\n",
    "    cfg_vec_pos[cfg_vec_pos < 0] = 0\n",
    "    \n",
    "    cfg_vec_neg = -1*cfg_vec.copy()\n",
    "    cfg_vec_neg[cfg_vec_neg < 0] = 0\n",
    "    \n",
    "    adj_pos = convert_conn_vec_to_adj_matr(cfg_vec_pos)\n",
    "    adj_neg = convert_conn_vec_to_adj_matr(cfg_vec_neg)\n",
    "    \n",
    "    return adj_pos, adj_neg"
   ]
  },
  {
   "cell_type": "markdown",
   "metadata": {},
   "source": [
    "### Process Navon"
   ]
  },
  {
   "cell_type": "code",
   "execution_count": null,
   "metadata": {
    "scrolled": false
   },
   "outputs": [],
   "source": [
    "for subj_id in xrange(n_subj):\n",
    "    proc_item = '{}/Subject_{}.Navon'.format(path_ExpData, subj_id)\n",
    "    print(proc_item)\n",
    "    \n",
    "    adj_dict = {'lo': {'fix': {'pos': np.zeros((n_tsk_block, n_good_roi, n_good_roi)),\n",
    "                               'neg': np.zeros((n_tsk_block, n_good_roi, n_good_roi))},\n",
    "                       'task': {'pos': np.zeros((n_tsk_block, n_good_roi, n_good_roi)),\n",
    "                                'neg': np.zeros((n_tsk_block, n_good_roi, n_good_roi))}\n",
    "                      },\n",
    "                'hi': {'fix': {'pos': np.zeros((n_tsk_block, n_good_roi, n_good_roi)),\n",
    "                               'neg': np.zeros((n_tsk_block, n_good_roi, n_good_roi))},\n",
    "                       'task': {'pos': np.zeros((n_tsk_block, n_good_roi, n_good_roi)),\n",
    "                                'neg': np.zeros((n_tsk_block, n_good_roi, n_good_roi))},\n",
    "                      }}\n",
    "    \n",
    "    # Process Fixation Blocks\n",
    "    cnt = 0\n",
    "    for fix_block in xrange(n_fix_block):\n",
    "        data = np.array(df_navon['data'][subj_id][fix_block].NFix, dtype='f').T\n",
    "        data = data[np.setdiff1d(np.arange(n_roi), bad_roi), :]\n",
    "        \n",
    "        if (fix_block % 2) == 0:\n",
    "            adj_dict['lo']['fix']['pos'][cnt, :, :], adj_dict['lo']['fix']['neg'][cnt, :, :] = comp_fconn(data)\n",
    "            \n",
    "        if (fix_block % 2) == 1:\n",
    "            adj_dict['hi']['fix']['pos'][cnt, :, :], adj_dict['hi']['fix']['neg'][cnt, :, :] = comp_fconn(data)\n",
    "            cnt += 1\n",
    "            \n",
    "    # Process Task Blocks\n",
    "    cnt = 0\n",
    "    for tsk_block in xrange(n_tsk_block):\n",
    "        \n",
    "        # Low demand\n",
    "        data = np.array(df_navon['data'][subj_id][tsk_block].NS, dtype='f').T\n",
    "        data = data[np.setdiff1d(np.arange(n_roi), bad_roi), :]\n",
    "        adj_dict['lo']['task']['pos'][cnt, :, :], adj_dict['lo']['task']['neg'][cnt, :, :] = comp_fconn(data)\n",
    "\n",
    "        # High demand        \n",
    "        data = np.array(df_navon['data'][subj_id][tsk_block].S, dtype='f').T\n",
    "        data = data[np.setdiff1d(np.arange(n_roi), bad_roi), :]\n",
    "        adj_dict['hi']['task']['pos'][cnt, :, :], adj_dict['hi']['task']['neg'][cnt, :, :] = comp_fconn(data)\n",
    "        \n",
    "        cnt += 1\n",
    "\n",
    "        \n",
    "    np.savez(proc_item, adj_dict=adj_dict)"
   ]
  },
  {
   "cell_type": "markdown",
   "metadata": {},
   "source": [
    "### Process Stroop"
   ]
  },
  {
   "cell_type": "code",
   "execution_count": null,
   "metadata": {
    "scrolled": false
   },
   "outputs": [],
   "source": [
    "for subj_id in xrange(n_subj):\n",
    "    proc_item = '{}/Subject_{}.Stroop'.format(path_ExpData, subj_id)\n",
    "    print(proc_item)\n",
    "    \n",
    "    adj_dict = {'lo': {'fix': {'pos': np.zeros((n_tsk_block, n_good_roi, n_good_roi)),\n",
    "                               'neg': np.zeros((n_tsk_block, n_good_roi, n_good_roi))},\n",
    "                       'task': {'pos': np.zeros((n_tsk_block, n_good_roi, n_good_roi)),\n",
    "                                'neg': np.zeros((n_tsk_block, n_good_roi, n_good_roi))}\n",
    "                      },\n",
    "                'hi': {'fix': {'pos': np.zeros((n_tsk_block, n_good_roi, n_good_roi)),\n",
    "                               'neg': np.zeros((n_tsk_block, n_good_roi, n_good_roi))},\n",
    "                       'task': {'pos': np.zeros((n_tsk_block, n_good_roi, n_good_roi)),\n",
    "                                'neg': np.zeros((n_tsk_block, n_good_roi, n_good_roi))},\n",
    "                      }}\n",
    "    \n",
    "    # Process Fixation Blocks\n",
    "    cnt = 0\n",
    "    for fix_block in xrange(n_fix_block):\n",
    "        data = np.array(df_stroop['data'][subj_id][fix_block].SFix, dtype='f').T\n",
    "        data = data[np.setdiff1d(np.arange(n_roi), bad_roi), :]\n",
    "        \n",
    "        if (fix_block % 2) == 0:\n",
    "            adj_dict['lo']['fix']['pos'][cnt, :, :], adj_dict['lo']['fix']['neg'][cnt, :, :] = comp_fconn(data)\n",
    "            \n",
    "        if (fix_block % 2) == 1:\n",
    "            adj_dict['hi']['fix']['pos'][cnt, :, :], adj_dict['hi']['fix']['neg'][cnt, :, :] = comp_fconn(data)\n",
    "            cnt += 1\n",
    "            \n",
    "    # Process Task Blocks\n",
    "    cnt = 0\n",
    "    for tsk_block in xrange(n_tsk_block):\n",
    "        \n",
    "        # Low demand\n",
    "        data = np.array(df_stroop['data'][subj_id][tsk_block].IE, dtype='f').T\n",
    "        data = data[np.setdiff1d(np.arange(n_roi), bad_roi), :]\n",
    "        adj_dict['lo']['task']['pos'][cnt, :, :], adj_dict['lo']['task']['neg'][cnt, :, :] = comp_fconn(data)\n",
    "\n",
    "        # High demand        \n",
    "        data = np.array(df_stroop['data'][subj_id][tsk_block].E, dtype='f').T\n",
    "        data = data[np.setdiff1d(np.arange(n_roi), bad_roi), :]\n",
    "        adj_dict['hi']['task']['pos'][cnt, :, :], adj_dict['hi']['task']['neg'][cnt, :, :] = comp_fconn(data)\n",
    "        \n",
    "        cnt += 1\n",
    "        \n",
    "        \n",
    "    np.savez(proc_item, adj_dict=adj_dict)"
   ]
  },
  {
   "cell_type": "markdown",
   "metadata": {},
   "source": [
    "## Generate Population Configuration Matrix"
   ]
  },
  {
   "cell_type": "markdown",
   "metadata": {},
   "source": [
    "### Dictionary of all adjacency matrices"
   ]
  },
  {
   "cell_type": "code",
   "execution_count": null,
   "metadata": {
    "collapsed": false
   },
   "outputs": [],
   "source": [
    "expr_dict = {}\n",
    "for expr_id in ['Stroop', 'Navon']:    \n",
    "    df_list = glob.glob('{}/Subject_*.{}.npz'.format(path_ExpData, expr_id))\n",
    "    \n",
    "    for df_subj in df_list:\n",
    "        subj_id = int(df_subj.split('/')[-1].split('.')[0].split('_')[1])\n",
    "        if subj_id not in expr_dict.keys():\n",
    "            expr_dict[subj_id] = {}\n",
    "        \n",
    "        expr_dict[subj_id][expr_id] = df_subj"
   ]
  },
  {
   "cell_type": "markdown",
   "metadata": {},
   "source": [
    "### Create Lookup-Table and Full Configuration Matrix"
   ]
  },
  {
   "cell_type": "code",
   "execution_count": null,
   "metadata": {},
   "outputs": [],
   "source": [
    "# Generate a dictionary of all key names\n",
    "cfg_key_names = ['Subject_ID', 'Experiment_ID', 'Condition_ID', 'Task_ID', 'CorSign_ID', 'Block_ID']\n",
    "cfg_key_label = {'Subject_ID': np.arange(n_subj),\n",
    "                 'Experiment_ID': ['Stroop', 'Navon'],\n",
    "                 'Condition_ID': ['lo', 'hi'],\n",
    "                 'Task_ID': ['fix', 'task'],\n",
    "                 'CorSign_ID': ['pos', 'neg'],\n",
    "                 'Block_ID': np.arange(n_tsk_block)}\n",
    "\n",
    "cfg_obs_lut = np.zeros((len(cfg_key_label[cfg_key_names[0]]),\n",
    "                        len(cfg_key_label[cfg_key_names[1]]),\n",
    "                        len(cfg_key_label[cfg_key_names[2]]),\n",
    "                        len(cfg_key_label[cfg_key_names[3]]),\n",
    "                        len(cfg_key_label[cfg_key_names[4]]),\n",
    "                        len(cfg_key_label[cfg_key_names[5]])))\n",
    "                        \n",
    "\n",
    "# Iterate over all cfg key labels and generate a LUT matrix and a config matrix\n",
    "key_cnt = 0\n",
    "cfg_matr = []\n",
    "for key_0_ii, key_0_id in enumerate(cfg_key_label[cfg_key_names[0]]):\n",
    "    for key_1_ii, key_1_id in enumerate(cfg_key_label[cfg_key_names[1]]):\n",
    "        \n",
    "        adj_dict = np.load(expr_dict[key_0_id][key_1_id])['adj_dict'][()]\n",
    "        \n",
    "        for key_2_ii, key_2_id in enumerate(cfg_key_label[cfg_key_names[2]]):\n",
    "            for key_3_ii, key_3_id in enumerate(cfg_key_label[cfg_key_names[3]]):\n",
    "                for key_4_ii, key_4_id in enumerate(cfg_key_label[cfg_key_names[4]]):\n",
    "                    for key_5_ii, cfg_vec in enumerate(convert_adj_matr_to_cfg_matr(adj_dict[key_2_id][key_3_id][key_4_id])):\n",
    "                        cfg_obs_lut[key_0_ii, key_1_ii, key_2_ii,\n",
    "                                    key_3_ii, key_4_ii, key_5_ii] = key_cnt\n",
    "                        cfg_matr.append(cfg_vec)\n",
    "                        key_cnt += 1 \n",
    "cfg_matr = np.array(cfg_matr)\n",
    "\n",
    "# Rescale positive and negative edges to unit energy\n",
    "cfg_L2 = np.zeros(cfg_matr.shape[0])\n",
    "for sgn_ii in xrange(len(cfg_key_label['CorSign_ID'])):\n",
    "    s_ix = np.array(cfg_obs_lut[:, :, :, :, sgn_ii, :].reshape(-1), dtype=int)\n",
    "    cfg_L2[s_ix] = np.linalg.norm(cfg_matr[s_ix, :], axis=0, ord=2)\n",
    "cfg_L2[cfg_L2 == 0] = 1.0\n",
    "\n",
    "cfg_matr = (cfg_matr.T / cfg_L2).T\n",
    "\n",
    "np.savez('{}/Population.Configuration_Matrix.npz'.format(path_ExpData),\n",
    "         cfg_matr=cfg_matr,\n",
    "         cfg_L2=cfg_L2,         \n",
    "         cfg_obs_lut=cfg_obs_lut,\n",
    "         cfg_key_label=cfg_key_label,\n",
    "         cfg_key_names=cfg_key_names)"
   ]
  },
  {
   "cell_type": "markdown",
   "metadata": {},
   "source": [
    "## NMF Test"
   ]
  },
  {
   "cell_type": "code",
   "execution_count": null,
   "metadata": {},
   "outputs": [],
   "source": [
    "df = np.load('{}/Population.Configuration_Matrix.npz'.format(path_ExpData))\n",
    "coef_ix = np.array(df['cfg_obs_lut'], dtype=int)\n",
    "\n",
    "rank = 13\n",
    "alpha = 0.5\n",
    "beta = 0.3\n",
    "n_fac = rank\n",
    "\n",
    "# Grab the task ID of the current job (and the associated parameter dictionary)\n",
    "fac_subnet = np.random.uniform(low=0, high=1.0, size=(rank, cfg_matr.shape[1]))\n",
    "fac_coef = np.random.uniform(low=0, high=1.0, size=(rank, cfg_matr.shape[0]))\n",
    "\n",
    "# Run NMF Algorithm\n",
    "fac_subnet, fac_coef, err = Echobase.Network.Partitioning.Subgraph.nmf.snmf_bcd(\n",
    "    cfg_matr, alpha=alpha, beta=beta, fac_subnet_init=fac_subnet, fac_coef_init=fac_coef, \n",
    "    max_iter=20, sparse_dim='win', verbose=True)\n",
    "\n",
    "\n",
    "#### Plot the subgraphs\n",
    "plt.figure(figsize=(4,4), dpi=300)\n",
    "for fac_ii in xrange(rank):\n",
    "    sel_fac_coef = fac_coef[fac_ii, :][coef_ix]\n",
    "    pos_expr = sel_fac_coef[:, :, :, :, 0, :]\n",
    "    neg_expr = sel_fac_coef[:, :, :, :, 1, :]\n",
    "    del_expr = (pos_expr-neg_expr).mean(axis=-1).mean(axis=-1).mean(axis=-1).mean(axis=-1)\n",
    "    \n",
    "    vmin, vmax = fac_subnet[fac_ii, :].min(), fac_subnet[fac_ii, :].max()\n",
    "    \n",
    "    ax = plt.subplot(5, 5, fac_ii+1)\n",
    "    mat = ax.matshow(convert_conn_vec_to_adj_matr(fac_subnet[fac_ii, :]),\n",
    "                     cmap='magma', vmin=vmin, vmax=vmax)\n",
    "    ax.set_title('{:.2f}'.format(del_expr.mean()), fontsize=4.0)\n",
    "    ax.set_axis_off()\n",
    "plt.show()"
   ]
  },
  {
   "cell_type": "markdown",
   "metadata": {},
   "source": [
    "## Checking Correlation Biases"
   ]
  },
  {
   "cell_type": "markdown",
   "metadata": {},
   "source": [
    "### Across Subjects"
   ]
  },
  {
   "cell_type": "code",
   "execution_count": null,
   "metadata": {
    "scrolled": false
   },
   "outputs": [],
   "source": [
    "df = np.load('{}/Population.Configuration_Matrix.npz'.format(path_ExpData))\n",
    "cfg_obs_lut = df['cfg_obs_lut']\n",
    "cfg_matr = df['cfg_matr']\n",
    "n_grp = len(df['cfg_key_label'][()]['Subject_ID'])\n",
    "\n",
    "grp_edge_wt = np.zeros((n_grp, cfg_matr.shape[1]))\n",
    "for grp_ii in xrange(n_grp):\n",
    "    grp_ix = np.array(cfg_obs_lut[grp_ii, :, :, :, :, :].reshape(-1), dtype=int)\n",
    "    grp_edge_wt[grp_ii, :] = np.linalg.norm(cfg_matr[grp_ix, :], axis=0)\n",
    "    \n",
    "mean_grp_edge_wt = np.mean(grp_edge_wt, axis=1)    \n",
    "grp_ord_ix = np.argsort(mean_grp_edge_wt)[::-1]\n",
    "move_score = (df_motion['Stroop']+df_motion['Navon'])*0.5\n",
    "\n",
    "\n",
    "### Plot Subject Distribution\n",
    "print(stats.f_oneway(*(grp_edge_wt)))  \n",
    "\n",
    "plt.figure(figsize=(2,2))\n",
    "ax = plt.subplot(111)\n",
    "bp = ax.boxplot(grp_edge_wt[grp_ord_ix, :].T, sym='', patch_artist=True)\n",
    "Echobase.Plotting.fig_format.set_box_color(bp, [0.0, 0.0, 0.0], [[0.2, 0.2, 0.2] for iii in xrange(n_grp)])\n",
    "\n",
    "ax.set_ylim(ymin=0)\n",
    "ax.yaxis.set_ticks_position('left')\n",
    "ax.xaxis.set_ticks_position('bottom')\n",
    "ax.set_xticklabels([])\n",
    "\n",
    "ax.set_xlabel('Subjects')\n",
    "ax.set_ylabel('||Edge Strength||')\n",
    "plt.show()\n",
    "\n",
    "\n",
    "### Plot Movement Correlation\n",
    "m, yint, rv, pv, _ = stats.linregress(move_score, mean_grp_edge_wt)\n",
    "print('r={}, p={}'.format(rv, pv))\n",
    "\n",
    "plt.figure(figsize=(2,2))\n",
    "ax = plt.subplot(111)\n",
    "ax.scatter(move_score, mean_grp_edge_wt, lw=0, s=4.0, color=[0.2, 0.2, 0.2])\n",
    "ax.plot(np.array([20, 160]), m*np.array([20, 160])+yint, color='k')\n",
    "\n",
    "ax.yaxis.set_ticks_position('left')\n",
    "ax.xaxis.set_ticks_position('bottom')\n",
    "\n",
    "ax.set_xlabel('Movement Score')\n",
    "ax.set_ylabel('Mean ||Edge Strength||')\n",
    "plt.show()"
   ]
  },
  {
   "cell_type": "markdown",
   "metadata": {},
   "source": [
    "### Positive vs Negative"
   ]
  },
  {
   "cell_type": "code",
   "execution_count": null,
   "metadata": {},
   "outputs": [],
   "source": [
    "df = np.load('{}/Population.Configuration_Matrix.Norm.npz'.format(path_ExpData))\n",
    "cfg_obs_lut = df['cfg_obs_lut']\n",
    "cfg_matr = df['cfg_matr']\n",
    "n_grp = len(df['cfg_key_label'][()]['CorSign_ID'])\n",
    "n_subj = len(df['cfg_key_label'][()]['Subject_ID'])\n",
    "\n",
    "grp_edge_wt = np.zeros((n_grp, n_subj))\n",
    "for grp_ii in xrange(n_grp):\n",
    "    for subj_ii in xrange(n_subj):\n",
    "        grp_ix = np.array(cfg_obs_lut[subj_ii, :, :, :, :, :][:, :, :, grp_ii, :].reshape(-1), dtype=int)\n",
    "        grp_edge_wt[grp_ii, subj_ii] = np.mean(np.linalg.norm(cfg_matr[grp_ix, :], axis=1))\n",
    "\n",
    "print(stats.ttest_rel(*(grp_edge_wt)))  \n",
    "\n",
    "\"\"\n",
    "### Plot\n",
    "plt.figure(figsize=(2,2))\n",
    "ax = plt.subplot(111)\n",
    "bp = ax.boxplot(grp_edge_wt.T, patch_artist=True)\n",
    "Echobase.Plotting.fig_format.set_box_color(bp, [0.0, 0.0, 0.0], [[0.2, 0.2, 0.2] for iii in xrange(n_grp)])\n",
    "\n",
    "ax.set_ylim(ymin=0)\n",
    "ax.yaxis.set_ticks_position('left')\n",
    "ax.xaxis.set_ticks_position('bottom')\n",
    "ax.set_xticklabels(df['cfg_key_label'][()]['CorSign_ID'])\n",
    "\n",
    "ax.set_xlabel('')\n",
    "ax.set_ylabel('||Config Vector||')\n",
    "plt.show()"
   ]
  },
  {
   "cell_type": "markdown",
   "metadata": {},
   "source": [
    "### Fixation vs Task"
   ]
  },
  {
   "cell_type": "code",
   "execution_count": null,
   "metadata": {},
   "outputs": [],
   "source": [
    "df = np.load('{}/Population.Configuration_Matrix.npz'.format(path_ExpData))\n",
    "cfg_obs_lut = df['cfg_obs_lut']\n",
    "cfg_matr = df['cfg_matr']\n",
    "n_grp = len(df['cfg_key_label'][()]['Task_ID'])\n",
    "n_subj = len(df['cfg_key_label'][()]['Subject_ID'])\n",
    "\n",
    "grp_edge_wt = np.zeros((n_grp, n_subj))\n",
    "for grp_ii in xrange(n_grp):\n",
    "    for subj_ii in xrange(n_subj):\n",
    "        grp_ix = np.array(cfg_obs_lut[subj_ii, :, :, :, :, :][:, :, grp_ii, :, :].reshape(-1), dtype=int)\n",
    "        grp_edge_wt[grp_ii, subj_ii] = np.mean(np.linalg.norm(cfg_matr[grp_ix, :], axis=1))\n",
    "\n",
    "print(stats.ttest_rel(*(grp_edge_wt)))  \n",
    "\n",
    "\n",
    "### Plot\n",
    "plt.figure(figsize=(2,2))\n",
    "ax = plt.subplot(111)\n",
    "bp = ax.boxplot(grp_edge_wt.T, patch_artist=True)\n",
    "Echobase.Plotting.fig_format.set_box_color(bp, [0.0, 0.0, 0.0], [[0.2, 0.2, 0.2] for iii in xrange(n_grp)])\n",
    "\n",
    "ax.set_ylim(ymin=0)\n",
    "ax.yaxis.set_ticks_position('left')\n",
    "ax.xaxis.set_ticks_position('bottom')\n",
    "ax.set_xticklabels(df['cfg_key_label'][()]['Task_ID'])\n",
    "\n",
    "ax.set_xlabel('')\n",
    "ax.set_ylabel('||Config Vector||')\n",
    "plt.show()"
   ]
  },
  {
   "cell_type": "markdown",
   "metadata": {},
   "source": [
    "### Within Task (Hi vs Lo)"
   ]
  },
  {
   "cell_type": "code",
   "execution_count": null,
   "metadata": {
    "scrolled": false
   },
   "outputs": [],
   "source": [
    "df = np.load('{}/Population.Configuration_Matrix.npz'.format(path_ExpData))\n",
    "cfg_obs_lut = df['cfg_obs_lut']\n",
    "cfg_matr = df['cfg_matr']\n",
    "n_grp = len(df['cfg_key_label'][()]['Condition_ID'])\n",
    "n_subj = len(df['cfg_key_label'][()]['Subject_ID'])\n",
    "\n",
    "grp_edge_wt = np.zeros((n_grp, n_subj))\n",
    "for grp_ii in xrange(n_grp):\n",
    "    for subj_ii in xrange(n_subj):\n",
    "        grp_ix = np.array(cfg_obs_lut[subj_ii, :, :, :, :, :][:, grp_ii, :, :, :].reshape(-1), dtype=int)\n",
    "        grp_edge_wt[grp_ii, subj_ii] = np.mean(np.linalg.norm(cfg_matr[grp_ix, :], axis=1))\n",
    "\n",
    "print(stats.ttest_rel(*(grp_edge_wt)))  \n",
    "\n",
    "\n",
    "### Plot\n",
    "plt.figure(figsize=(2,2))\n",
    "ax = plt.subplot(111)\n",
    "bp = ax.boxplot(grp_edge_wt.T, patch_artist=True)\n",
    "Echobase.Plotting.fig_format.set_box_color(bp, [0.0, 0.0, 0.0], [[0.2, 0.2, 0.2] for iii in xrange(n_grp)])\n",
    "\n",
    "ax.set_ylim(ymin=0)\n",
    "ax.yaxis.set_ticks_position('left')\n",
    "ax.xaxis.set_ticks_position('bottom')\n",
    "ax.set_xticklabels(df['cfg_key_label'][()]['Condition_ID'])\n",
    "\n",
    "ax.set_xlabel('')\n",
    "ax.set_ylabel('||Config Vector||')\n",
    "plt.show()"
   ]
  },
  {
   "cell_type": "markdown",
   "metadata": {},
   "source": [
    "### Between Task (Stroop vs Navon)"
   ]
  },
  {
   "cell_type": "code",
   "execution_count": null,
   "metadata": {},
   "outputs": [],
   "source": [
    "df = np.load('{}/Population.Configuration_Matrix.npz'.format(path_ExpData))\n",
    "cfg_obs_lut = df['cfg_obs_lut']\n",
    "cfg_matr = df['cfg_matr']\n",
    "n_grp = len(df['cfg_key_label'][()]['Experiment_ID'])\n",
    "n_subj = len(df['cfg_key_label'][()]['Subject_ID'])\n",
    "\n",
    "grp_edge_wt = np.zeros((n_grp, n_subj))\n",
    "for grp_ii in xrange(n_grp):\n",
    "    for subj_ii in xrange(n_subj):\n",
    "        grp_ix = np.array(cfg_obs_lut[subj_ii, :, :, :, :, :][grp_ii, :, :, :, :].reshape(-1), dtype=int)\n",
    "        grp_edge_wt[grp_ii, subj_ii] = np.mean(np.linalg.norm(cfg_matr[grp_ix, :], axis=1))\n",
    "\n",
    "print(stats.ttest_rel(*(grp_edge_wt)))  \n",
    "\n",
    "\n",
    "### Plot\n",
    "plt.figure(figsize=(2,2))\n",
    "ax = plt.subplot(111)\n",
    "bp = ax.boxplot(grp_edge_wt.T, patch_artist=True)\n",
    "Echobase.Plotting.fig_format.set_box_color(bp, [0.0, 0.0, 0.0], [[0.2, 0.2, 0.2] for iii in xrange(n_grp)])\n",
    "\n",
    "ax.set_ylim(ymin=0)\n",
    "ax.yaxis.set_ticks_position('left')\n",
    "ax.xaxis.set_ticks_position('bottom')\n",
    "ax.set_xticklabels(df['cfg_key_label'][()]['Experiment_ID'])\n",
    "\n",
    "ax.set_xlabel('')\n",
    "ax.set_ylabel('||Config Vector||')\n",
    "plt.show()"
   ]
  },
  {
   "cell_type": "markdown",
   "metadata": {},
   "source": [
    "# System-Level Connectivity"
   ]
  },
  {
   "cell_type": "markdown",
   "metadata": {},
   "source": [
    "## Assign Lausanne to Yeo Systems"
   ]
  },
  {
   "cell_type": "code",
   "execution_count": null,
   "metadata": {
    "collapsed": false
   },
   "outputs": [],
   "source": [
    "import nibabel as nib\n",
    "\n",
    "df_yeo_atlas = nib.load('{}/Yeo_JNeurophysiol11_MNI152/Yeo2011_7Networks_MNI152_FreeSurferConformed1mm_LiberalMask.nii.gz'.format(path_AtlasData))\n",
    "yeo_matr = df_yeo_atlas.get_data()[..., 0]\n",
    "yeo_roi = np.unique(yeo_matr)[1:]\n",
    "yeo_names = ['VIS', 'SMN', 'DAN', 'VAN', 'LIM', 'FPN', 'DMN']\n",
    "\n",
    "yeo_xyz = {}\n",
    "M = df_yeo_atlas.affine[:3, :3]\n",
    "abc = df_yeo_atlas.affine[:3, 3]\n",
    "for yeo_id in yeo_roi:\n",
    "    yeo_ijk = np.array(np.nonzero(yeo_matr == yeo_id)).T\n",
    "    yeo_xyz[yeo_id] = M.dot(yeo_ijk.T).T + abc.T\n",
    "    \n",
    "    \n",
    "df_laus_atlas = nib.load('{}/Lausanne/ROIv_scale125_dilated.nii.gz'.format(path_AtlasData))\n",
    "laus_matr = df_laus_atlas.get_data()\n",
    "laus_roi = np.unique(laus_matr)[1:]\n",
    "\n",
    "laus_xyz = {}\n",
    "M = df_laus_atlas.affine[:3, :3]\n",
    "abc = df_laus_atlas.affine[:3, 3]\n",
    "for laus_id in laus_roi:\n",
    "    laus_ijk = np.array(np.nonzero(laus_matr == laus_id)).T    \n",
    "    laus_xyz[laus_id] = M.dot(laus_ijk.T).T + abc.T\n",
    "    \n",
    "\n",
    "laus_yeo_assign = []\n",
    "for laus_id in laus_roi:\n",
    "    dists = []\n",
    "\n",
    "    for yeo_id in yeo_roi:\n",
    "        dists.append(np.min(np.sum((yeo_xyz[yeo_id] - laus_xyz[laus_id].mean(axis=0))**2, axis=1)))\n",
    "        \n",
    "    laus_yeo_assign.append(yeo_names[np.argmin(dists)])\n",
    "laus_yeo_assign = np.array(laus_yeo_assign)\n",
    "\n",
    "pd.DataFrame(laus_yeo_assign).to_csv('{}/Lausanne/ROIv_scale125_dilated.Yeo2011_7Networks_MNI152.csv'.format(path_AtlasData))\n",
    "\n",
    "# Manually replaced subcortical and cerebellar structures as SUB and CBR, respectively."
   ]
  },
  {
   "cell_type": "markdown",
   "metadata": {},
   "source": [
    "## System-Level Adjacency Matrices"
   ]
  },
  {
   "cell_type": "code",
   "execution_count": null,
   "metadata": {},
   "outputs": [],
   "source": [
    "# Read in Yeo Atlas\n",
    "df_laus_yeo = pd.read_csv('{}/LausanneScale125.csv'.format(path_CoreData))\n",
    "df_laus_yeo = df_laus_yeo[df_laus_yeo.Label_ID != bad_roi[0]+1]\n",
    "system_lbl = np.array(df_laus_yeo['Yeo2011_7Networks'].as_matrix())\n",
    "system_name = np.unique(df_laus_yeo['Yeo2011_7Networks'])\n",
    "n_system = len(system_name)\n",
    "n_roi = len(system_lbl)\n",
    "triu_ix, triu_iy = np.triu_indices(n_roi, k=1)\n",
    "sys_triu_ix, sys_triu_iy = np.triu_indices(n_system, k=0)\n",
    "\n",
    "# Reorder System Labels and Count ROIs per System\n",
    "system_srt_ix = np.argsort(system_lbl)\n",
    "system_cnt = np.array([len(np.flatnonzero(system_lbl == sys_name))\n",
    "                       for sys_name in system_name])\n",
    "system_demarc = np.concatenate(([0], np.cumsum(system_cnt)))\n",
    "\n",
    "np.savez('{}/Lausanne125_to_Yeo.npz'.format(path_ExpData), \n",
    "         df_laus_yeo=df_laus_yeo,\n",
    "         yeo_lbl=system_lbl,\n",
    "         yeo_name=system_name,\n",
    "         sort_laus_to_yeo=system_srt_ix,\n",
    "         yeo_adj_demarc=system_demarc,\n",
    "         laus_triu=np.triu_indices(n_roi, k=1),\n",
    "         yeo_triu=np.triu_indices(n_system, k=0))"
   ]
  },
  {
   "cell_type": "markdown",
   "metadata": {},
   "source": [
    "### Plot Population Average Adjacency Matrices (Expr + Pos/Neg)"
   ]
  },
  {
   "cell_type": "code",
   "execution_count": null,
   "metadata": {},
   "outputs": [],
   "source": [
    "df = np.load('{}/Population.Configuration_Matrix.Norm.npz'.format(path_ExpData))\n",
    "cfg_obs_lut = df['cfg_obs_lut']\n",
    "cfg_matr = df['cfg_matr']\n",
    "\n",
    "df_to_yeo = np.load('{}/Lausanne125_to_Yeo.npz'.format(path_ExpData))\n",
    "n_laus = len(df_to_yeo['yeo_lbl'])\n",
    "\n",
    "plt.figure(figsize=(5,5));\n",
    "cnt = 0\n",
    "for expr_ii, expr_id in enumerate(df['cfg_key_label'][()]['Experiment_ID']):\n",
    "    for sgn_ii, sgn_id in enumerate(df['cfg_key_label'][()]['CorSign_ID']):\n",
    "        \n",
    "        grp_ix = np.array(cfg_obs_lut[:, expr_ii, :, :, :, :][:, :, :, sgn_ii, :].reshape(-1), dtype=int)\n",
    "        sel_cfg_matr = cfg_matr[grp_ix, :].mean(axis=0)\n",
    "        adj = convert_conn_vec_to_adj_matr(sel_cfg_matr)\n",
    "        adj_yeo = adj[df_to_yeo['sort_laus_to_yeo'], :][:, df_to_yeo['sort_laus_to_yeo']]\n",
    "        \n",
    "        # Plot\n",
    "        ax = plt.subplot(2, 2, cnt+1)\n",
    "        mat = ax.matshow(adj_yeo,\n",
    "                         cmap='magma', vmin=0.025)\n",
    "        plt.colorbar(mat, ax=ax, fraction=0.046, pad=0.04)\n",
    "\n",
    "        for xx in df_to_yeo['yeo_adj_demarc']:\n",
    "            ax.vlines(xx, 0, n_laus, color='w', lw=0.5)\n",
    "            ax.hlines(xx, 0, n_laus, color='w', lw=0.5)\n",
    "\n",
    "        ax.yaxis.set_ticks_position('left')\n",
    "        ax.xaxis.set_ticks_position('bottom')\n",
    "        ax.yaxis.set_tick_params(width=0)                                \n",
    "        ax.xaxis.set_tick_params(width=0)\n",
    "        ax.grid(False)\n",
    "        ax.tick_params(axis='both', which='major', pad=-3)\n",
    "\n",
    "        ax.set_xticks((df_to_yeo['yeo_adj_demarc'][:-1] + (np.diff(df_to_yeo['yeo_adj_demarc']) * 0.5)));\n",
    "        ax.set_xticklabels(df_to_yeo['yeo_name'], fontsize=5.0, rotation=45)\n",
    "\n",
    "        ax.set_yticks((df_to_yeo['yeo_adj_demarc'][:-1] + (np.diff(df_to_yeo['yeo_adj_demarc']) * 0.5)));\n",
    "        ax.set_yticklabels(df_to_yeo['yeo_name'], fontsize=5.0, rotation=45)\n",
    "\n",
    "        ax.set_title('{}-{}'.format(expr_id, sgn_id), fontsize=5.0)\n",
    "        cnt += 1 \n",
    "plt.show()"
   ]
  },
  {
   "cell_type": "markdown",
   "metadata": {},
   "source": [
    "### Construct System Adjacency Matrices"
   ]
  },
  {
   "cell_type": "code",
   "execution_count": null,
   "metadata": {
    "collapsed": false
   },
   "outputs": [],
   "source": [
    "df = np.load('{}/Population.Configuration_Matrix.Norm.npz'.format(path_ExpData))\n",
    "cfg_matr = df['cfg_matr']\n",
    "\n",
    "\n",
    "# Compute Brain System Adjacency Matrices\n",
    "sys_adj_matr = np.zeros((cfg_matr.shape[0], n_system, n_system))\n",
    "for sys_ii, (sys_ix, sys_iy) in enumerate(zip(sys_triu_ix, sys_triu_iy)):\n",
    "    sys1 = system_name[sys_ix]\n",
    "    sys2 = system_name[sys_iy]\n",
    "    sys1_ix = np.flatnonzero(system_lbl[triu_ix] == sys1)\n",
    "    sys2_iy = np.flatnonzero(system_lbl[triu_iy] == sys2)\n",
    "    inter_sys_ii = np.intersect1d(sys1_ix, sys2_iy)\n",
    "    if len(inter_sys_ii) == 0:\n",
    "        sys1_ix = np.flatnonzero(system_lbl[triu_ix] == sys2)\n",
    "        sys2_iy = np.flatnonzero(system_lbl[triu_iy] == sys1)\n",
    "        inter_sys_ii = np.intersect1d(sys1_ix, sys2_iy)\n",
    "\n",
    "    mean_conn_sys1_sys2 = np.mean(cfg_matr[:, inter_sys_ii], axis=1)\n",
    "\n",
    "    sys_adj_matr[:, sys_ix, sys_iy] = mean_conn_sys1_sys2\n",
    "    sys_adj_matr[:, sys_iy, sys_ix] = mean_conn_sys1_sys2\n",
    "\n",
    "np.savez('{}/Full_Adj.Yeo2011_7Networks.npz'.format(path_ExpData),\n",
    "         sys_adj_matr=sys_adj_matr,\n",
    "         cfg_obs_lut=df['cfg_obs_lut'],\n",
    "         cfg_key_label=df['cfg_key_label'],\n",
    "         cfg_key_names=df['cfg_key_names'])"
   ]
  },
  {
   "cell_type": "markdown",
   "metadata": {},
   "source": [
    "## Check Contrasts"
   ]
  },
  {
   "cell_type": "markdown",
   "metadata": {},
   "source": [
    "### Stroop vs Navon"
   ]
  },
  {
   "cell_type": "code",
   "execution_count": null,
   "metadata": {
    "scrolled": false
   },
   "outputs": [],
   "source": [
    "df = np.load('{}/Population.Configuration_Matrix.Norm.npz'.format(path_ExpData))\n",
    "cfg_obs_lut = df['cfg_obs_lut']\n",
    "cfg_matr = df['cfg_matr']\n",
    "\n",
    "df_to_yeo = np.load('{}/Lausanne125_to_Yeo.npz'.format(path_ExpData))\n",
    "n_laus = len(df_to_yeo['yeo_lbl'])\n",
    "\n",
    "plt.figure(figsize=(5,5))\n",
    "for sgn_ii, sgn_id in enumerate(df['cfg_key_label'][()]['CorSign_ID']):        \n",
    "    coef_ix = np.array(cfg_obs_lut, dtype=int)\n",
    "    cfg_matr_reshape = cfg_matr[coef_ix, :]\n",
    "    \n",
    "    sel_cfg_matr = cfg_matr_reshape[:, :, :, 1, :, :, :][:, :, :, sgn_ii, :, :].mean(axis=3).mean(axis=2)\n",
    "    sel_cfg_matr_tv = np.nan*np.zeros(cfg_matr.shape[1])\n",
    "    sel_cfg_matr_pv = np.nan*np.zeros(cfg_matr.shape[1])\n",
    "    for cc in xrange(cfg_matr.shape[1]):\n",
    "        tv, pv = stats.ttest_rel(*sel_cfg_matr[:, :, cc].T)\n",
    "        sel_cfg_matr_tv[cc] = tv\n",
    "        sel_cfg_matr_pv[cc] = pv   \n",
    "\n",
    "    sig_pv = Echobase.Statistics.FDR.fdr.bhp(sel_cfg_matr_pv, alpha=0.01, dependent=True)\n",
    "    sel_cfg_matr_tv[sig_pv == False] = np.nan\n",
    "\n",
    "    adj = convert_conn_vec_to_adj_matr(sel_cfg_matr_tv)\n",
    "    adj_yeo = adj[df_to_yeo['sort_laus_to_yeo'], :][:, df_to_yeo['sort_laus_to_yeo']]\n",
    "    adj_yeo[np.diag_indices_from(adj_yeo)] = np.nan\n",
    "\n",
    "    # Plot\n",
    "    ax = plt.subplot(1, 2, sgn_ii+1)\n",
    "    mat = ax.matshow(adj_yeo,\n",
    "                     cmap='coolwarm', vmin=-5.0, vmax=5.0)\n",
    "    plt.colorbar(mat, ax=ax, fraction=0.046, pad=0.04)\n",
    "\n",
    "    for xx in df_to_yeo['yeo_adj_demarc']:\n",
    "        ax.vlines(xx, 0, n_laus, color='k', lw=0.5)\n",
    "        ax.hlines(xx, 0, n_laus, color='k', lw=0.5)\n",
    "\n",
    "    ax.yaxis.set_ticks_position('left')\n",
    "    ax.xaxis.set_ticks_position('bottom')\n",
    "    ax.yaxis.set_tick_params(width=0)                                \n",
    "    ax.xaxis.set_tick_params(width=0)\n",
    "    ax.grid(False)\n",
    "    ax.tick_params(axis='both', which='major', pad=-3)\n",
    "\n",
    "    ax.set_xticks((df_to_yeo['yeo_adj_demarc'][:-1] + (np.diff(df_to_yeo['yeo_adj_demarc']) * 0.5)));\n",
    "    ax.set_xticklabels(df_to_yeo['yeo_name'], fontsize=5.0, rotation=45)\n",
    "\n",
    "    ax.set_yticks((df_to_yeo['yeo_adj_demarc'][:-1] + (np.diff(df_to_yeo['yeo_adj_demarc']) * 0.5)));\n",
    "    ax.set_yticklabels(df_to_yeo['yeo_name'], fontsize=5.0, rotation=45)\n",
    "\n",
    "    ax.set_title('Stroop vs. Navon: {}'.format(sgn_id), fontsize=5.0)\n",
    "plt.show()"
   ]
  },
  {
   "cell_type": "markdown",
   "metadata": {},
   "source": [
    "### Lo vs Hi"
   ]
  },
  {
   "cell_type": "code",
   "execution_count": null,
   "metadata": {
    "scrolled": false
   },
   "outputs": [],
   "source": [
    "df = np.load('{}/Population.Configuration_Matrix.Norm.npz'.format(path_ExpData))\n",
    "cfg_obs_lut = df['cfg_obs_lut']\n",
    "cfg_matr = df['cfg_matr']\n",
    "\n",
    "df_to_yeo = np.load('{}/Lausanne125_to_Yeo.npz'.format(path_ExpData))\n",
    "n_laus = len(df_to_yeo['yeo_lbl'])\n",
    "\n",
    "plt.figure(figsize=(5,5))\n",
    "cnt = 0\n",
    "for expr_ii, expr_id in enumerate(df['cfg_key_label'][()]['Experiment_ID']):\n",
    "    for sgn_ii, sgn_id in enumerate(df['cfg_key_label'][()]['CorSign_ID']):        \n",
    "        coef_ix = np.array(cfg_obs_lut, dtype=int)\n",
    "        cfg_matr_reshape = cfg_matr[coef_ix, :]\n",
    "\n",
    "        sel_cfg_matr = cfg_matr_reshape[:, expr_ii, :, :, :, :, :][:, :, 1, :, :, :][:, :, sgn_ii, :, :].mean(axis=2)\n",
    "        sel_cfg_matr_tv = np.nan*np.zeros(cfg_matr.shape[1])\n",
    "        sel_cfg_matr_pv = np.nan*np.zeros(cfg_matr.shape[1])\n",
    "        for cc in xrange(cfg_matr.shape[1]):\n",
    "            tv, pv = stats.ttest_rel(*sel_cfg_matr[:, :, cc].T)\n",
    "            sel_cfg_matr_tv[cc] = -1*tv\n",
    "            sel_cfg_matr_pv[cc] = pv   \n",
    "\n",
    "        sig_pv = Echobase.Statistics.FDR.fdr.bhp(sel_cfg_matr_pv, alpha=0.01, dependent=True)\n",
    "        sel_cfg_matr_tv[sig_pv == False] = np.nan\n",
    "\n",
    "        adj = convert_conn_vec_to_adj_matr(sel_cfg_matr_tv)\n",
    "        adj_yeo = adj[df_to_yeo['sort_laus_to_yeo'], :][:, df_to_yeo['sort_laus_to_yeo']]\n",
    "        adj_yeo[np.diag_indices_from(adj_yeo)] = np.nan\n",
    "\n",
    "        # Plot\n",
    "        ax = plt.subplot(2, 2, cnt+1)\n",
    "        mat = ax.matshow(adj_yeo,\n",
    "                         cmap='coolwarm', vmin=-5.0, vmax=5.0)\n",
    "        plt.colorbar(mat, ax=ax, fraction=0.046, pad=0.04)\n",
    "\n",
    "        for xx in df_to_yeo['yeo_adj_demarc']:\n",
    "            ax.vlines(xx, 0, n_laus, color='k', lw=0.5)\n",
    "            ax.hlines(xx, 0, n_laus, color='k', lw=0.5)\n",
    "\n",
    "        ax.yaxis.set_ticks_position('left')\n",
    "        ax.xaxis.set_ticks_position('bottom')\n",
    "        ax.yaxis.set_tick_params(width=0)                                \n",
    "        ax.xaxis.set_tick_params(width=0)\n",
    "        ax.grid(False)\n",
    "        ax.tick_params(axis='both', which='major', pad=-3)\n",
    "\n",
    "        ax.set_xticks((df_to_yeo['yeo_adj_demarc'][:-1] + (np.diff(df_to_yeo['yeo_adj_demarc']) * 0.5)));\n",
    "        ax.set_xticklabels(df_to_yeo['yeo_name'], fontsize=5.0, rotation=45)\n",
    "\n",
    "        ax.set_yticks((df_to_yeo['yeo_adj_demarc'][:-1] + (np.diff(df_to_yeo['yeo_adj_demarc']) * 0.5)));\n",
    "        ax.set_yticklabels(df_to_yeo['yeo_name'], fontsize=5.0, rotation=45)\n",
    "\n",
    "        ax.set_title('{}-{}'.format(expr_id, sgn_id), fontsize=5.0)\n",
    "        cnt += 1 \n",
    "plt.show()"
   ]
  },
  {
   "cell_type": "code",
   "execution_count": null,
   "metadata": {
    "collapsed": false
   },
   "outputs": [],
   "source": []
  }
 ],
 "metadata": {
  "anaconda-cloud": {},
  "kernelspec": {
   "display_name": "Python 2",
   "language": "python",
   "name": "python2"
  },
  "language_info": {
   "codemirror_mode": {
    "name": "ipython",
    "version": 2
   },
   "file_extension": ".py",
   "mimetype": "text/x-python",
   "name": "python",
   "nbconvert_exporter": "python",
   "pygments_lexer": "ipython2",
   "version": "2.7.13"
  },
  "latex_envs": {
   "LaTeX_envs_menu_present": true,
   "bibliofile": "biblio.bib",
   "cite_by": "apalike",
   "current_citInitial": 1,
   "eqLabelWithNumbers": true,
   "eqNumInitial": 0,
   "labels_anchors": false,
   "latex_user_defs": false,
   "report_style_numbering": false,
   "user_envs_cfg": false
  },
  "toc": {
   "colors": {
    "hover_highlight": "#DAA520",
    "running_highlight": "#FF0000",
    "selected_highlight": "#FFD700"
   },
   "moveMenuLeft": true,
   "nav_menu": {
    "height": "120px",
    "width": "252px"
   },
   "navigate_menu": true,
   "number_sections": true,
   "sideBar": true,
   "threshold": 4,
   "toc_cell": true,
   "toc_number_sections": true,
   "toc_position": {
    "height": "897px",
    "left": "0px",
    "right": "1597px",
    "top": "106px",
    "width": "291px"
   },
   "toc_section_display": "block",
   "toc_threshold": 6,
   "toc_window_display": true
  }
 },
 "nbformat": 4,
 "nbformat_minor": 1
}
