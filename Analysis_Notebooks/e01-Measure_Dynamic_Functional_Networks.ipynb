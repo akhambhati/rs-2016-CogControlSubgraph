{
 "cells": [
  {
   "cell_type": "markdown",
   "metadata": {
    "toc": "true"
   },
   "source": [
    "# Table of Contents\n",
    " <p><div class=\"lev1\"><a href=\"#Measure-Dynamic-Functional-Connectivity-1\"><span class=\"toc-item-num\">1&nbsp;&nbsp;</span>Measure Dynamic Functional Connectivity</a></div><div class=\"lev2\"><a href=\"#Initialize-Environment-1.1\"><span class=\"toc-item-num\">1.1&nbsp;&nbsp;</span>Initialize Environment</a></div><div class=\"lev2\"><a href=\"#Load-CoreData-1.2\"><span class=\"toc-item-num\">1.2&nbsp;&nbsp;</span>Load CoreData</a></div><div class=\"lev2\"><a href=\"#Compute-Functional-Connectivity-1.3\"><span class=\"toc-item-num\">1.3&nbsp;&nbsp;</span>Compute Functional Connectivity</a></div><div class=\"lev3\"><a href=\"#Process-Navon-1.3.1\"><span class=\"toc-item-num\">1.3.1&nbsp;&nbsp;</span>Process Navon</a></div><div class=\"lev3\"><a href=\"#Process-Stroop-1.3.2\"><span class=\"toc-item-num\">1.3.2&nbsp;&nbsp;</span>Process Stroop</a></div>"
   ]
  },
  {
   "cell_type": "markdown",
   "metadata": {},
   "source": [
    "# Measure Dynamic Functional Connectivity"
   ]
  },
  {
   "cell_type": "markdown",
   "metadata": {},
   "source": [
    "## Initialize Environment"
   ]
  },
  {
   "cell_type": "code",
   "execution_count": null,
   "metadata": {
    "collapsed": false
   },
   "outputs": [],
   "source": [
    "try:\n",
    "    %load_ext autoreload\n",
    "    %autoreload 2\n",
    "    \n",
    "except:\n",
    "    print 'NOT IPYTHON'\n",
    "\n",
    "from __future__ import division\n",
    "from IPython.display import display\n",
    "\n",
    "import os\n",
    "import sys\n",
    "import glob\n",
    "import json\n",
    "\n",
    "import numpy as np\n",
    "import pandas as pd\n",
    "import scipy.io as io\n",
    "import h5py\n",
    "import matplotlib.pyplot as plt\n",
    "\n",
    "os.chdir('../')\n",
    "import Codebase\n",
    "conv_adj_matr_to_cfg_matr = Codebase.Networks.configuration.convert_adj_matr_to_cfg_matr\n",
    "conv_cfg_vec_to_adj_matr = Codebase.Networks.configuration.convert_conn_vec_to_adj_matr\n",
    "os.chdir('./Analysis_Notebooks/')\n",
    "\n",
    "import scipy.stats as stats\n",
    "\n",
    "path_Remotes = '/Users/akhambhati/Remotes'\n",
    "path_CoreData = path_Remotes + '/CORE.fMRI_cogcontrol.medaglia'\n",
    "path_PeriphData = path_Remotes + '/RSRCH.NMF_CogControl'\n",
    "path_ExpData = path_PeriphData + '/e01-FuncNetw'\n",
    "\n",
    "for path in [path_CoreData, path_PeriphData, path_ExpData]:\n",
    "    if not os.path.exists(path):\n",
    "        print('Path: {}, does not exist'.format(path))\n",
    "        os.makedirs(path)"
   ]
  },
  {
   "cell_type": "markdown",
   "metadata": {},
   "source": [
    "## Load CoreData"
   ]
  },
  {
   "cell_type": "code",
   "execution_count": null,
   "metadata": {
    "collapsed": false
   },
   "outputs": [],
   "source": [
    "df_navon = io.loadmat('{}/NavonBlockedSeriesScale125.mat'.format(path_CoreData), struct_as_record=False)\n",
    "df_stroop = io.loadmat('{}/StroopBlockedSeriesScale125.mat'.format(path_CoreData), struct_as_record=False)\n",
    "\n",
    "n_subj = 28\n",
    "n_fix_block = 12\n",
    "n_tsk_block = 6\n",
    "n_roi = 262"
   ]
  },
  {
   "cell_type": "markdown",
   "metadata": {},
   "source": [
    "## Compute Functional Connectivity"
   ]
  },
  {
   "cell_type": "markdown",
   "metadata": {},
   "source": [
    "### Process Navon"
   ]
  },
  {
   "cell_type": "code",
   "execution_count": null,
   "metadata": {
    "collapsed": false,
    "scrolled": false
   },
   "outputs": [],
   "source": [
    "for subj_id in xrange(n_subj):\n",
    "    proc_item = '{}/Subject_{}.Navon'.format(path_ExpData, subj_id)\n",
    "\n",
    "    adj_rs_pos = np.zeros((n_tsk_block, n_roi, n_roi))\n",
    "    adj_rs_neg = np.zeros((n_tsk_block, n_roi, n_roi))    \n",
    "    adj_lo_pos = np.zeros((n_tsk_block, n_roi, n_roi))\n",
    "    adj_lo_neg = np.zeros((n_tsk_block, n_roi, n_roi))    \n",
    "    adj_hi_pos = np.zeros((n_tsk_block, n_roi, n_roi))\n",
    "    adj_hi_neg = np.zeros((n_tsk_block, n_roi, n_roi))    \n",
    "\n",
    "    cnt = 0\n",
    "    for fix_block in xrange(0, n_fix_block, 2):\n",
    "        data = np.vstack((np.array(df_navon['data'][subj_id][fix_block+1].NFix, dtype='f'),\n",
    "                          np.array(df_navon['data'][subj_id][fix_block+2].NFix, dtype='f'))).T        \n",
    "        adj = np.corrcoef(data)\n",
    "        adj_rs_pos[cnt, :, :] = stats.threshold(adj, 0)\n",
    "        adj_rs_neg[cnt, :, :] = stats.threshold(-1*adj, 0)        \n",
    "\n",
    "        cnt += 1\n",
    "\n",
    "    for tsk_block in xrange(n_tsk_block):\n",
    "        data = np.array(df_navon['data'][subj_id][tsk_block].NS, dtype='f').T\n",
    "        adj = np.corrcoef(data)\n",
    "        adj_lo_pos[tsk_block, :, :] = stats.threshold(adj, 0)\n",
    "        adj_lo_neg[tsk_block, :, :] = stats.threshold(-1*adj, 0)        \n",
    "\n",
    "        data = np.array(df_navon['data'][subj_id][tsk_block].S, dtype='f').T\n",
    "        adj = np.corrcoef(data)\n",
    "        adj_hi_pos[tsk_block, :, :] = stats.threshold(adj, 0)\n",
    "        adj_hi_neg[tsk_block, :, :] = stats.threshold(-1*adj, 0)        \n",
    "\n",
    "    np.savez(proc_item,\n",
    "             adj_rs_pos = adj_rs_pos,\n",
    "             adj_rs_neg = adj_rs_neg,\n",
    "             adj_lo_pos = adj_lo_pos,\n",
    "             adj_lo_neg = adj_lo_neg,\n",
    "             adj_hi_pos = adj_hi_pos,\n",
    "             adj_hi_neg = adj_hi_neg)"
   ]
  },
  {
   "cell_type": "markdown",
   "metadata": {},
   "source": [
    "### Process Stroop"
   ]
  },
  {
   "cell_type": "code",
   "execution_count": null,
   "metadata": {
    "collapsed": false
   },
   "outputs": [],
   "source": [
    "for subj_id in xrange(n_subj):\n",
    "    proc_item = '{}/Subject_{}.Stroop'.format(path_ExpData, subj_id)\n",
    "    \n",
    "    adj_rs_pos = np.zeros((n_tsk_block, n_roi, n_roi))\n",
    "    adj_rs_neg = np.zeros((n_tsk_block, n_roi, n_roi))    \n",
    "    adj_lo_pos = np.zeros((n_tsk_block, n_roi, n_roi))\n",
    "    adj_lo_neg = np.zeros((n_tsk_block, n_roi, n_roi))    \n",
    "    adj_hi_pos = np.zeros((n_tsk_block, n_roi, n_roi))\n",
    "    adj_hi_neg = np.zeros((n_tsk_block, n_roi, n_roi))    \n",
    "    \n",
    "    cnt = 0\n",
    "    for fix_block in xrange(0, n_fix_block, 2):\n",
    "        data = np.vstack((np.array(df_stroop['data'][subj_id][fix_block+1].SFix, dtype='f'),\n",
    "                          np.array(df_stroop['data'][subj_id][fix_block+2].SFix, dtype='f'))).T\n",
    "        adj = np.corrcoef(data)\n",
    "        adj_rs_pos[cnt, :, :] = stats.threshold(adj, 0)\n",
    "        adj_rs_neg[cnt, :, :] = stats.threshold(-1*adj, 0)        \n",
    "        \n",
    "        cnt += 1\n",
    "        \n",
    "    for tsk_block in xrange(n_tsk_block):\n",
    "        data = np.array(df_stroop['data'][subj_id][tsk_block].IE, dtype='f').T        \n",
    "        adj = np.corrcoef(data)\n",
    "        adj_lo_pos[tsk_block, :, :] = stats.threshold(adj, 0)\n",
    "        adj_lo_neg[tsk_block, :, :] = stats.threshold(-1*adj, 0)        \n",
    "        \n",
    "        data = np.array(df_stroop['data'][subj_id][tsk_block].E, dtype='f').T                \n",
    "        adj = np.corrcoef(data)\n",
    "        adj_hi_pos[tsk_block, :, :] = stats.threshold(adj, 0)\n",
    "        adj_hi_neg[tsk_block, :, :] = stats.threshold(-1*adj, 0)        \n",
    "\n",
    "    np.savez(proc_item,\n",
    "             adj_rs_pos = adj_rs_pos,\n",
    "             adj_rs_neg = adj_rs_neg,\n",
    "             adj_lo_pos = adj_lo_pos,\n",
    "             adj_lo_neg = adj_lo_neg,\n",
    "             adj_hi_pos = adj_hi_pos,\n",
    "             adj_hi_neg = adj_hi_neg)"
   ]
  },
  {
   "cell_type": "code",
   "execution_count": null,
   "metadata": {
    "collapsed": false
   },
   "outputs": [],
   "source": [
    "%matplotlib inline\n",
    "\n",
    "tt = 5\n",
    "plt.figure(figsize=(8,12))\n",
    "ax = plt.subplot(1,1,1); \n",
    "ax.hist(adj.reshape(-1), 100)\n",
    "ax.set_yscale('log')"
   ]
  },
  {
   "cell_type": "code",
   "execution_count": null,
   "metadata": {
    "collapsed": false,
    "scrolled": false
   },
   "outputs": [],
   "source": [
    "%matplotlib inline\n",
    "proc_items = np.random.permutation(glob.glob('{}/Subject_*.npz'.format(path_ExpData)))[0]\n",
    "adj = np.load(proc_items)\n",
    "tt = np.random.randint(6)\n",
    "\n",
    "adj1 = adj['adj_rs_pos'][tt, ...]; adj1[np.isnan(adj1)] = 0;\n",
    "adj2 = adj['adj_rs_neg'][tt, ...]; adj2[np.isnan(adj2)] = 0;\n",
    "adj3 = adj['adj_lo_pos'][tt, ...]; adj3[np.isnan(adj3)] = 0;\n",
    "adj4 = adj['adj_lo_neg'][tt, ...]; adj4[np.isnan(adj4)] = 0;\n",
    "adj5 = adj['adj_hi_pos'][tt, ...]; adj5[np.isnan(adj5)] = 0;\n",
    "adj6 = adj['adj_hi_neg'][tt, ...]; adj6[np.isnan(adj6)] = 0;\n",
    "\n",
    "cmap = 'viridis'\n",
    "\n",
    "plt.figure(figsize=(8,12))\n",
    "ax = plt.subplot(3,2,1); mat = ax.matshow(adj1, cmap=cmap, vmin=0, vmax=1); plt.colorbar(mat, ax=ax)\n",
    "ax = plt.subplot(3,2,2); mat = ax.matshow(adj2, cmap=cmap, vmin=0, vmax=1); plt.colorbar(mat, ax=ax)\n",
    "ax = plt.subplot(3,2,3); mat = ax.matshow(adj3, cmap=cmap, vmin=0, vmax=1); plt.colorbar(mat, ax=ax)\n",
    "ax = plt.subplot(3,2,4); mat = ax.matshow(adj4, cmap=cmap, vmin=0, vmax=1); plt.colorbar(mat, ax=ax)\n",
    "ax = plt.subplot(3,2,5); mat = ax.matshow(adj5, cmap=cmap, vmin=0, vmax=1); plt.colorbar(mat, ax=ax)\n",
    "ax = plt.subplot(3,2,6); mat = ax.matshow(adj6, cmap=cmap, vmin=0, vmax=1); plt.colorbar(mat, ax=ax)\n",
    "\n",
    "plt.figure()\n",
    "ax = plt.subplot(1,1,1);\n",
    "mat = ax.matshow(adj1, cmap=cmap, vmin=0, vmax=1);\n",
    "plt.colorbar(mat, ax=ax)\n",
    "ax.set_axis_off()\n",
    "plt.savefig('./e01-Figures/Adj_RS_Pos.svg')\n",
    "\n",
    "plt.figure()\n",
    "ax = plt.subplot(1,1,1);\n",
    "mat = ax.matshow(adj2, cmap=cmap, vmin=0, vmax=1);\n",
    "plt.colorbar(mat, ax=ax)\n",
    "ax.set_axis_off()\n",
    "plt.savefig('./e01-Figures/Adj_RS_Neg.svg')\n",
    "\n",
    "plt.figure()\n",
    "ax = plt.subplot(1,1,1);\n",
    "mat = ax.matshow(adj3, cmap=cmap, vmin=0, vmax=1);\n",
    "plt.colorbar(mat, ax=ax)\n",
    "ax.set_axis_off()\n",
    "plt.savefig('./e01-Figures/Adj_LO_Pos.svg')\n",
    "\n",
    "plt.figure()\n",
    "ax = plt.subplot(1,1,1);\n",
    "mat = ax.matshow(adj4, cmap=cmap, vmin=0, vmax=1);\n",
    "plt.colorbar(mat, ax=ax)\n",
    "ax.set_axis_off()\n",
    "plt.savefig('./e01-Figures/Adj_LO_Neg.svg')\n",
    "\n",
    "plt.figure()\n",
    "ax = plt.subplot(1,1,1);\n",
    "mat = ax.matshow(adj5, cmap=cmap, vmin=0, vmax=1);\n",
    "plt.colorbar(mat, ax=ax)\n",
    "ax.set_axis_off()\n",
    "plt.savefig('./e01-Figures/Adj_HI_Pos.svg')\n",
    "\n",
    "plt.figure()\n",
    "ax = plt.subplot(1,1,1);\n",
    "mat = ax.matshow(adj6, cmap=cmap, vmin=0, vmax=1);\n",
    "plt.colorbar(mat, ax=ax)\n",
    "ax.set_axis_off()\n",
    "plt.savefig('./e01-Figures/Adj_HI_Neg.svg')"
   ]
  },
  {
   "cell_type": "code",
   "execution_count": null,
   "metadata": {
    "collapsed": false
   },
   "outputs": [],
   "source": [
    "cfg = np.load('/Users/akhambhati/Remotes/RSRCH.NMF_CogControl/e02b-FuncSubg/NMF_Optimization.CfgMatr.npz')\n",
    "cfg_matr = cfg['cfg_matr'].T\n",
    "cfg_matr[np.isnan(cfg_matr)] = 0\n",
    "\n",
    "plt.figure(figsize=(16,12))\n",
    "ax = plt.subplot(111)\n",
    "mat = ax.matshow(cfg_matr, \n",
    "                 aspect=cfg_matr.shape[1]/cfg_matr.shape[0],\n",
    "                 cmap=cmap)\n",
    "ax.set_axis_off()\n",
    "plt.savefig('./e01-Figures/Cfg_Matr.svg')"
   ]
  },
  {
   "cell_type": "code",
   "execution_count": null,
   "metadata": {
    "collapsed": false
   },
   "outputs": [],
   "source": [
    "%matplotlib inline\n",
    "cmap = 'viridis'\n",
    "\n",
    "print('Plotting Subgraph Factors...')\n",
    "\n",
    "df = np.load('/Users/akhambhati/Remotes/RSRCH.NMF_CogControl/e02-FuncSubg/NMF_Consensus.npz')\n",
    "fac_subnet = df['fac_subnet'].T\n",
    "fac_subnet[np.isnan(fac_subnet)] = 0\n",
    "fac_coef = df['fac_coef']\n",
    "n_fac = fac_coef.shape[0]\n",
    "n_obs = fac_coef.shape[1]\n",
    "arr_obs = np.arange(n_obs)\n",
    "\n",
    "plt.figure(figsize=(16,12))\n",
    "ax = plt.subplot(111)\n",
    "mat = ax.matshow(fac_subnet, \n",
    "                 aspect=fac_subnet.shape[1]/fac_subnet.shape[0],\n",
    "                 cmap=cmap)\n",
    "ax.set_axis_off()\n",
    "plt.savefig('./e01-Figures/Fac_Subnet.svg')\n",
    "plt.close()\n",
    "\n",
    "plt.figure(figsize=(16,12))\n",
    "ax = plt.subplot(111)\n",
    "mat = ax.matshow(conv_cfg_vec_to_adj_matr(fac_subnet[:, 1]), cmap=cmap)\n",
    "ax.set_axis_off()\n",
    "plt.savefig('./e01-Figures/Fac_Subnet_Adj.svg')\n",
    "plt.close()\n",
    "\n",
    "\n",
    "print('Plotting Subgraph Coefficients...')\n",
    "plt.figure(figsize=(16,12))\n",
    "ax = plt.subplot(111)\n",
    "for i in xrange(15):\n",
    "    norm_coef = fac_coef[i, :]\n",
    "    norm_coef -= norm_coef.mean()\n",
    "    norm_coef /= norm_coef.max()\n",
    "    \n",
    "    ax.plot(arr_obs[:72*3], norm_coef[:72*3]+i)\n",
    "\n",
    "# Axis Settings\n",
    "ax.xaxis.set_ticks_position('bottom')\n",
    "ax.set_xlim([0, 72*3])\n",
    "ax.set_xlabel('Time Windows')\n",
    "ax.yaxis.set_ticks_position('left')\n",
    "ax.set_ylim([-1, 15])\n",
    "ax.set_ylabel('Functional Subgraphs')\n",
    "\n",
    "plt.savefig('./e01-Figures/Fac_Coefs.svg')\n",
    "plt.close()  "
   ]
  },
  {
   "cell_type": "code",
   "execution_count": null,
   "metadata": {
    "collapsed": false
   },
   "outputs": [],
   "source": [
    "fac_subnet.shape"
   ]
  },
  {
   "cell_type": "code",
   "execution_count": null,
   "metadata": {
    "collapsed": false
   },
   "outputs": [],
   "source": []
  }
 ],
 "metadata": {
  "anaconda-cloud": {},
  "kernelspec": {
   "display_name": "Env-Echobase",
   "language": "python",
   "name": "env-echobase"
  },
  "language_info": {
   "codemirror_mode": {
    "name": "ipython",
    "version": 2
   },
   "file_extension": ".py",
   "mimetype": "text/x-python",
   "name": "python",
   "nbconvert_exporter": "python",
   "pygments_lexer": "ipython2",
   "version": "2.7.13"
  },
  "latex_envs": {
   "bibliofile": "biblio.bib",
   "cite_by": "apalike",
   "current_citInitial": 1,
   "eqLabelWithNumbers": true,
   "eqNumInitial": 0
  },
  "toc": {
   "toc_cell": true,
   "toc_number_sections": true,
   "toc_section_display": "none",
   "toc_threshold": 6,
   "toc_window_display": true
  }
 },
 "nbformat": 4,
 "nbformat_minor": 0
}
