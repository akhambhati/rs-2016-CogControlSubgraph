{
 "cells": [
  {
   "cell_type": "markdown",
   "metadata": {},
   "source": [
    "# Initialize Environment"
   ]
  },
  {
   "cell_type": "code",
   "execution_count": 6,
   "metadata": {
    "ExecuteTime": {
     "end_time": "2016-09-06T15:32:42.513404",
     "start_time": "2016-09-06T15:32:40.211166"
    },
    "collapsed": false
   },
   "outputs": [
    {
     "name": "stdout",
     "output_type": "stream",
     "text": [
      "The autoreload extension is already loaded. To reload it, use:\n",
      "  %reload_ext autoreload\n"
     ]
    }
   ],
   "source": [
    "try:\n",
    "    %load_ext autoreload\n",
    "    %autoreload 2\n",
    "    \n",
    "except:\n",
    "    print 'NOT IPYTHON'\n",
    "\n",
    "from __future__ import division\n",
    "from IPython.display import display\n",
    "\n",
    "import os\n",
    "import sys\n",
    "import glob\n",
    "import json\n",
    "import subprocess\n",
    "\n",
    "import numpy as np\n",
    "import pandas as pd\n",
    "import seaborn as sns\n",
    "import scipy.io as io\n",
    "import h5py\n",
    "import matplotlib.pyplot as plt\n",
    "from matplotlib import rcParams\n",
    "\n",
    "import fig_plotting\n",
    "rcParams = fig_plotting.update_rcparams(rcParams)\n",
    "\n",
    "import scipy.stats as stats\n",
    "\n",
    "os.chdir('../')\n",
    "import Codebase\n",
    "conv_adj_matr_to_cfg_matr = Codebase.Networks.configuration.convert_adj_matr_to_cfg_matr\n",
    "conv_cfg_vec_to_adj_matr = Codebase.Networks.configuration.convert_conn_vec_to_adj_matr\n",
    "os.chdir('./Analysis_Notebooks/')\n",
    "\n",
    "path_Remotes = '/Users/akhambhati/Remotes'\n",
    "path_CoreData = path_Remotes + '/CORE.fMRI_cogcontrol.medaglia'\n",
    "path_RsrchData = path_Remotes + '/RSRCH.NMF_CogControl'\n",
    "path_ExpData = path_PeriphData + '/e05-BehStat'\n",
    "\n",
    "for path in [path_CoreData, path_PeriphData, path_ExpData]:\n",
    "    if not os.path.exists(path):\n",
    "        print('Path: {}, does not exist'.format(path))\n",
    "        os.makedirs(path)"
   ]
  },
  {
   "cell_type": "markdown",
   "metadata": {},
   "source": [
    "# Load Behavioral Data"
   ]
  },
  {
   "cell_type": "code",
   "execution_count": 4,
   "metadata": {
    "ExecuteTime": {
     "end_time": "2016-09-06T15:33:07.986878",
     "start_time": "2016-09-06T15:33:07.945156"
    },
    "collapsed": false
   },
   "outputs": [
    {
     "name": "stdout",
     "output_type": "stream",
     "text": [
      "Stroop Labels: [u'Total Accuracy', u'Interference Accuracy', u'NoInterference Accuracy', u'MeanRT', u'MedianRT', u'InterferenceMeanRT', u'InterferenceMedianRT', u'NoInterferenceMeanRT', u'NoInterferenceMedianRT', u'InterferenceMedianRTMinusMeanRT']\n",
      "Navon Labels: [u'Total Accuracy', u'ShiftingAccuracy', u'NoShiftingAccuracy', u'MeanRT', u'MedianRT', u'ShiftingMeanRT', u'ShiftingMedianRT', u'NoShiftingMeanRT', u'NoShiftingMedianRT', u'ProportionTotalNonResponses']\n"
     ]
    }
   ],
   "source": [
    "df_beh = io.loadmat('{}/BehavioralData_CogControlCorrect.mat'.format(path_CoreData))\n",
    "\n",
    "stroop_lbl = [lbl[0] for lbl in df_beh['StroopLabels'][0]]\n",
    "navon_lbl = [lbl[0] for lbl in df_beh['NavonLabels'][0]]\n",
    "stroop_beh = df_beh['StroopCorrectOnly']\n",
    "navon_beh = df_beh['NavonCorrectOnly']\n",
    "\n",
    "bad_subj_ix = [1, 6]\n",
    "good_subj_ix = np.setdiff1d(np.arange(stroop_beh.shape[0]), bad_subj_ix)\n",
    "\n",
    "print('Stroop Labels: {}'.format(stroop_lbl))\n",
    "print('Navon Labels: {}'.format(navon_lbl))\n",
    "\n",
    "stroop_move = io.loadmat('{}/StroopMove.mat'.format(path_CoreData))['move'][:, 0]\n",
    "navon_move = io.loadmat('{}/NavonMove.mat'.format(path_CoreData))['move'][:, 0]"
   ]
  },
  {
   "cell_type": "markdown",
   "metadata": {},
   "source": [
    "# Compare Task Performance"
   ]
  },
  {
   "cell_type": "code",
   "execution_count": 10,
   "metadata": {
    "ExecuteTime": {
     "end_time": "2016-09-06T15:40:59.141808",
     "start_time": "2016-09-06T15:40:57.676809"
    },
    "collapsed": false
   },
   "outputs": [
    {
     "name": "stdout",
     "output_type": "stream",
     "text": [
      "WilcoxonResult(statistic=14.0, pvalue=1.6789398011889547e-05)\n"
     ]
    },
    {
     "data": {
      "image/png": "[encoded data removed]",
      "text/plain": [
       "<matplotlib.figure.Figure at 0x112ee0390>"
      ]
     },
     "metadata": {},
     "output_type": "display_data"
    },
    {
     "name": "stdout",
     "output_type": "stream",
     "text": [
      "WilcoxonResult(statistic=0.0, pvalue=1.7343976283205784e-06)\n"
     ]
    },
    {
     "data": {
      "image/png": "[encoded data removed]",
      "text/plain": [
       "<matplotlib.figure.Figure at 0x1137d3310>"
      ]
     },
     "metadata": {},
     "output_type": "display_data"
    }
   ],
   "source": [
    "%matplotlib inline\n",
    "\n",
    "plt.figure()\n",
    "ax = plt.subplot(111)\n",
    "print(stats.wilcoxon(stroop_beh[:, 1], navon_beh[:, 1]))\n",
    "ax.boxplot([stroop_beh[:, 1], navon_beh[:, 1]])\n",
    "ax.yaxis.set_ticks_position('left')\n",
    "ax.xaxis.set_ticks_position('bottom')\n",
    "ax.set_xlabel('')\n",
    "ax.set_xticklabels(['Stroop', 'Navon'])\n",
    "ax.set_ylabel('Interference Accuracy')\n",
    "plt.show()\n",
    "\n",
    "plt.figure()\n",
    "ax = plt.subplot(111)\n",
    "print(stats.wilcoxon(stroop_beh[:, 5], navon_beh[:, 5]))\n",
    "ax.boxplot([stroop_beh[:, 5], navon_beh[:, 5]])\n",
    "ax.yaxis.set_ticks_position('left')\n",
    "ax.xaxis.set_ticks_position('bottom')\n",
    "ax.set_xlabel('')\n",
    "ax.set_xticklabels(['Stroop', 'Navon'])\n",
    "ax.set_ylabel('Mean Interference RT')\n",
    "plt.show()"
   ]
  },
  {
   "cell_type": "code",
   "execution_count": null,
   "metadata": {
    "collapsed": true
   },
   "outputs": [],
   "source": []
  }
 ],
 "metadata": {
  "kernelspec": {
   "display_name": "Env-NMFSubnet",
   "language": "python",
   "name": "env-nmfsubnet"
  },
  "language_info": {
   "codemirror_mode": {
    "name": "ipython",
    "version": 2
   },
   "file_extension": ".py",
   "mimetype": "text/x-python",
   "name": "python",
   "nbconvert_exporter": "python",
   "pygments_lexer": "ipython2",
   "version": "2.7.12"
  },
  "latex_envs": {
   "bibliofile": "biblio.bib",
   "cite_by": "apalike",
   "current_citInitial": 1,
   "eqLabelWithNumbers": true,
   "eqNumInitial": 0
  },
  "toc": {
   "toc_cell": false,
   "toc_number_sections": true,
   "toc_threshold": 6,
   "toc_window_display": false
  }
 },
 "nbformat": 4,
 "nbformat_minor": 0
}
