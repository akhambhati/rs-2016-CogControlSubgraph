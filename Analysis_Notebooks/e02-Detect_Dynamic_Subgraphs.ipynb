{
 "cells": [
  {
   "cell_type": "markdown",
   "metadata": {
    "toc": "true"
   },
   "source": [
    "# Table of Contents\n",
    " <p><div class=\"lev1 toc-item\"><a href=\"#Initialize-Environment\" data-toc-modified-id=\"Initialize-Environment-1\"><span class=\"toc-item-num\">1&nbsp;&nbsp;</span>Initialize Environment</a></div><div class=\"lev1 toc-item\"><a href=\"#Optimize-Dynamic-Subgraphs\" data-toc-modified-id=\"Optimize-Dynamic-Subgraphs-2\"><span class=\"toc-item-num\">2&nbsp;&nbsp;</span>Optimize Dynamic Subgraphs</a></div><div class=\"lev2 toc-item\"><a href=\"#Generate-Cross-Validation-Parameter-Sets\" data-toc-modified-id=\"Generate-Cross-Validation-Parameter-Sets-21\"><span class=\"toc-item-num\">2.1&nbsp;&nbsp;</span>Generate Cross-Validation Parameter Sets</a></div><div class=\"lev2 toc-item\"><a href=\"#SGE-Helper-Script-for-NMF-Cross-Validation\" data-toc-modified-id=\"SGE-Helper-Script-for-NMF-Cross-Validation-22\"><span class=\"toc-item-num\">2.2&nbsp;&nbsp;</span>SGE Helper Script for NMF Cross-Validation</a></div><div class=\"lev2 toc-item\"><a href=\"#Quality-Measures-in-Parameter-Space\" data-toc-modified-id=\"Quality-Measures-in-Parameter-Space-23\"><span class=\"toc-item-num\">2.3&nbsp;&nbsp;</span>Quality Measures in Parameter Space</a></div><div class=\"lev1 toc-item\"><a href=\"#Detect-Dynamic-Subgraphs\" data-toc-modified-id=\"Detect-Dynamic-Subgraphs-3\"><span class=\"toc-item-num\">3&nbsp;&nbsp;</span>Detect Dynamic Subgraphs</a></div><div class=\"lev2 toc-item\"><a href=\"#Map-NMF-Consensus-to-Identify-Seed-Subgraphs\" data-toc-modified-id=\"Map-NMF-Consensus-to-Identify-Seed-Subgraphs-31\"><span class=\"toc-item-num\">3.1&nbsp;&nbsp;</span>Map NMF Consensus to Identify Seed Subgraphs</a></div><div class=\"lev2 toc-item\"><a href=\"#Reduce-Seed-Subgraphs-to-Consensus-Subgraphs\" data-toc-modified-id=\"Reduce-Seed-Subgraphs-to-Consensus-Subgraphs-32\"><span class=\"toc-item-num\">3.2&nbsp;&nbsp;</span>Reduce Seed Subgraphs to Consensus Subgraphs</a></div><div class=\"lev2 toc-item\"><a href=\"#Generate-Surrogate-Subgraphs-using-Consensus-Subgraphs\" data-toc-modified-id=\"Generate-Surrogate-Subgraphs-using-Consensus-Subgraphs-33\"><span class=\"toc-item-num\">3.3&nbsp;&nbsp;</span>Generate Surrogate Subgraphs using Consensus Subgraphs</a></div><div class=\"lev2 toc-item\"><a href=\"#Plot-Subgraphs\" data-toc-modified-id=\"Plot-Subgraphs-34\"><span class=\"toc-item-num\">3.4&nbsp;&nbsp;</span>Plot Subgraphs</a></div><div class=\"lev1 toc-item\"><a href=\"#Detect-Dynamic-Subgraphs-(Split-half-validation)\" data-toc-modified-id=\"Detect-Dynamic-Subgraphs-(Split-half-validation)-4\"><span class=\"toc-item-num\">4&nbsp;&nbsp;</span>Detect Dynamic Subgraphs (Split-half validation)</a></div><div class=\"lev2 toc-item\"><a href=\"#Map-NMF-Consensus-to-Identify-Seed-Subgraphs\" data-toc-modified-id=\"Map-NMF-Consensus-to-Identify-Seed-Subgraphs-41\"><span class=\"toc-item-num\">4.1&nbsp;&nbsp;</span>Map NMF Consensus to Identify Seed Subgraphs</a></div><div class=\"lev2 toc-item\"><a href=\"#Reduce-Seed-Subgraphs-to-Consensus-Subgraphs\" data-toc-modified-id=\"Reduce-Seed-Subgraphs-to-Consensus-Subgraphs-42\"><span class=\"toc-item-num\">4.2&nbsp;&nbsp;</span>Reduce Seed Subgraphs to Consensus Subgraphs</a></div><div class=\"lev2 toc-item\"><a href=\"#Test-Retest-Reliability\" data-toc-modified-id=\"Test-Retest-Reliability-43\"><span class=\"toc-item-num\">4.3&nbsp;&nbsp;</span>Test-Retest Reliability</a></div><div class=\"lev1 toc-item\"><a href=\"#Subgraphs-of-Brain-Systems\" data-toc-modified-id=\"Subgraphs-of-Brain-Systems-5\"><span class=\"toc-item-num\">5&nbsp;&nbsp;</span>Subgraphs of Brain Systems</a></div><div class=\"lev2 toc-item\"><a href=\"#Load-Subgraphs-and-Expression\" data-toc-modified-id=\"Load-Subgraphs-and-Expression-51\"><span class=\"toc-item-num\">5.1&nbsp;&nbsp;</span>Load Subgraphs and Expression</a></div><div class=\"lev2 toc-item\"><a href=\"#Condense-Subgraphs-into-a-Dictionary\" data-toc-modified-id=\"Condense-Subgraphs-into-a-Dictionary-52\"><span class=\"toc-item-num\">5.2&nbsp;&nbsp;</span>Condense Subgraphs into a Dictionary</a></div><div class=\"lev2 toc-item\"><a href=\"#Plot-Subgraph-Adjacency-Matrices\" data-toc-modified-id=\"Plot-Subgraph-Adjacency-Matrices-53\"><span class=\"toc-item-num\">5.3&nbsp;&nbsp;</span>Plot Subgraph Adjacency Matrices</a></div><div class=\"lev1 toc-item\"><a href=\"#Visualize-Subgraphs\" data-toc-modified-id=\"Visualize-Subgraphs-6\"><span class=\"toc-item-num\">6&nbsp;&nbsp;</span>Visualize Subgraphs</a></div><div class=\"lev2 toc-item\"><a href=\"#Surface-render-brain-systems\" data-toc-modified-id=\"Surface-render-brain-systems-61\"><span class=\"toc-item-num\">6.1&nbsp;&nbsp;</span>Surface render brain systems</a></div><div class=\"lev2 toc-item\"><a href=\"#Circle-Plot\" data-toc-modified-id=\"Circle-Plot-62\"><span class=\"toc-item-num\">6.2&nbsp;&nbsp;</span>Circle Plot</a></div>"
   ]
  },
  {
   "cell_type": "markdown",
   "metadata": {},
   "source": [
    "# Initialize Environment"
   ]
  },
  {
   "cell_type": "code",
   "execution_count": null,
   "metadata": {},
   "outputs": [],
   "source": [
    "try:\n",
    "    %load_ext autoreload\n",
    "    %autoreload 2\n",
    "    %reset\n",
    "except:\n",
    "    print 'NOT IPYTHON'\n",
    "\n",
    "from __future__ import division\n",
    "\n",
    "import os\n",
    "os.environ['MKL_NUM_THREADS'] = '1'\n",
    "os.environ['NUMEXPR_NUM_THREADS'] = '1'\n",
    "os.environ['OMP_NUM_THREADS'] = '1'\n",
    "import sys\n",
    "import glob\n",
    "\n",
    "import numpy as np\n",
    "import pandas as pd\n",
    "import seaborn as sns\n",
    "import scipy.stats as stats\n",
    "import scipy.io as io\n",
    "import h5py\n",
    "import matplotlib.pyplot as plt\n",
    "from matplotlib import rcParams\n",
    "\n",
    "#echobase_path = '/data/jag/akhambhati/hoth_research/Echobase'\n",
    "echobase_path = '/Users/akhambhati/Developer/hoth_research/Echobase'\n",
    "sys.path.append(echobase_path)\n",
    "import Echobase\n",
    "convert_conn_vec_to_adj_matr = Echobase.Network.Transforms.configuration.convert_conn_vec_to_adj_matr\n",
    "convert_adj_matr_to_cfg_matr = Echobase.Network.Transforms.configuration.convert_adj_matr_to_cfg_matr\n",
    "subgraph = Echobase.Network.Partitioning.Subgraph\n",
    "\n",
    "rcParams = Echobase.Plotting.fig_format.update_rcparams(rcParams)\n",
    "\n",
    "path_Remotes = '/Users/akhambhati/Remotes'\n",
    "#path_Remotes = '/data/jag/bassett-lab/akhambhati'\n",
    "path_CoreData = path_Remotes + '/CORE.fMRI_cogcontrol.medaglia'\n",
    "path_PeriphData = path_Remotes + '/RSRCH.NMF_CogControl'\n",
    "path_InpData = path_PeriphData + '/e01-FuncNetw'\n",
    "path_ExpData = path_PeriphData + '/e02-FuncSubg'\n",
    "path_Figures = './e02-Figures'\n",
    "\n",
    "for path in [path_CoreData, path_PeriphData, path_ExpData, path_Figures]:\n",
    "    if not os.path.exists(path):\n",
    "        print('Path: {}, does not exist'.format(path))\n",
    "        os.makedirs(path)"
   ]
  },
  {
   "cell_type": "markdown",
   "metadata": {},
   "source": [
    "# Optimize Dynamic Subgraphs"
   ]
  },
  {
   "cell_type": "markdown",
   "metadata": {},
   "source": [
    "## Generate Cross-Validation Parameter Sets"
   ]
  },
  {
   "cell_type": "code",
   "execution_count": null,
   "metadata": {
    "collapsed": false
   },
   "outputs": [],
   "source": [
    "# Load configuration matrix\n",
    "df = np.load('{}/Population.Configuration_Matrix.Norm.npz'.format(path_InpData))\n",
    "cfg_matr = df['cfg_matr']\n",
    "cfg_obs_lut = df['cfg_obs_lut']\n",
    "n_subj = len(df['cfg_key_label'][()]['Subject_ID'])\n",
    "\n",
    "# Generate folds\n",
    "n_fold = 14\n",
    "n_subj_per_fold = n_subj / n_fold\n",
    "assert n_subj_per_fold.is_integer()\n",
    "n_subj_per_fold = int(n_subj_per_fold)\n",
    "subj_obs = cfg_obs_lut.reshape(cfg_obs_lut.shape[0], -1)\n",
    "fold_obs = subj_obs.reshape(-1, n_subj_per_fold, subj_obs.shape[-1])\n",
    "fold_obs = fold_obs.reshape(fold_obs.shape[0], -1)\n",
    "fold_list = [list(ff) for ff in fold_obs]\n",
    "\n",
    "# Cross-Validation Progress\n",
    "str_path = '{}/NMF_CrossValidation.Progress.txt'.format(path_ExpData)\n",
    "if os.path.exists(str_path):\n",
    "    os.remove(str_path)\n",
    "\n",
    "# Get parameter search space\n",
    "param_list = Echobase.Network.Partitioning.Subgraph.optimize_nmf.gen_random_sampling_paramset(\n",
    "    rank_range=(2, 31),\n",
    "    alpha_range=(0.01, 1.0),\n",
    "    beta_range=(0.01, 1.0),\n",
    "    n_param=1000,\n",
    "    fold_list=fold_list,\n",
    "    str_path=str_path)\n",
    "\n",
    "# Save param_list for sge run\n",
    "np.savez('{}/NMF_CrossValidation.Param_List.npz'.format(path_ExpData),\n",
    "         param_list=param_list)"
   ]
  },
  {
   "cell_type": "markdown",
   "metadata": {},
   "source": [
    "## SGE Helper Script for NMF Cross-Validation"
   ]
  },
  {
   "cell_type": "code",
   "execution_count": null,
   "metadata": {
    "collapsed": false
   },
   "outputs": [],
   "source": [
    "# Map NMF xval to all the parameter sets\n",
    "job_str = './NMF_xval.py {} {} {}'.format(echobase_path, path_InpData, path_ExpData)\n",
    "qsub_str = 'qsub -t 1-{} {}'.format(len(param_list), job_str)\n",
    "\n",
    "os.chdir('./e02-SGE_Scripts/')\n",
    "!sh {qsub_str}\n",
    "os.chdir('../')"
   ]
  },
  {
   "cell_type": "code",
   "execution_count": null,
   "metadata": {
    "collapsed": false
   },
   "outputs": [],
   "source": [
    "# Reduce NMF xval output to a qmeas_list\n",
    "\n",
    "path_xval_out = glob.glob('{}/NMF_CrossValidation.Param.*.npz'.format(path_ExpData))\n",
    "qmeas_list = [np.load(pth)['qmeas_dict'][()] for pth in path_xval_out]"
   ]
  },
  {
   "cell_type": "markdown",
   "metadata": {},
   "source": [
    "## Quality Measures in Parameter Space"
   ]
  },
  {
   "cell_type": "code",
   "execution_count": null,
   "metadata": {},
   "outputs": [],
   "source": [
    "param_list = np.load('{}/NMF_CrossValidation.Param_List.npz'.format(path_ExpData))['param_list']\n",
    "all_param, opt_param = Echobase.Network.Partitioning.Subgraph.optimize_nmf.find_optimum_xval_paramset(param_list, qmeas_list, search_pct=5)\n",
    "np.savez('{}/NMF_CrossValidation.Optimal_Param.npz'.format(path_ExpData),\n",
    "         opt_param=opt_param,\n",
    "         all_param=all_param)"
   ]
  },
  {
   "cell_type": "code",
   "execution_count": null,
   "metadata": {
    "scrolled": false
   },
   "outputs": [],
   "source": [
    "opt_dict = np.load('{}/NMF_CrossValidation.Optimal_Param.npz'.format(path_ExpData))['all_param'][()]\n",
    "opt_params = {}\n",
    "opt_params['rank'] = int(opt_dict['rank'][opt_dict['error'] < np.percentile(opt_dict['error'], 5)].mean().round())\n",
    "opt_params['alpha'] = opt_dict['alpha'][opt_dict['error'] < np.percentile(opt_dict['error'], 5)].mean()\n",
    "opt_params['beta'] = opt_dict['beta'][opt_dict['error'] < np.percentile(opt_dict['error'], 5)].mean()\n",
    "print('Optimal Rank: {}'.format(opt_params['rank']))\n",
    "print('Optimal Alpha: {}'.format(opt_params['alpha']))\n",
    "print('Optimal Beta: {}'.format(opt_params['beta']))\n",
    "\n",
    "# Generate quality measure plots\n",
    "for qmeas in ['error', 'pct_sparse_subgraph', 'pct_sparse_coef']:\n",
    "    for param in ['rank', 'alpha', 'beta']:\n",
    "\n",
    "        param_unq = np.unique(opt_dict[param])\n",
    "        qmeas_mean = [np.mean(opt_dict[qmeas][opt_dict[param]==pp]) for pp in param_unq]\n",
    "        \n",
    "        ax_jp = sns.jointplot(opt_dict[param], opt_dict[qmeas], kind='kde', \n",
    "                              space=0, n_levels=60, shade_lowest=False)\n",
    "        ax = ax_jp.ax_joint\n",
    "        ax.plot([opt_params[param], opt_params[param]], \n",
    "                [ax.get_ylim()[0], ax.get_ylim()[1]],\n",
    "                lw=1.0, alpha=0.75, linestyle='--')\n",
    "\n",
    "        ax.yaxis.set_ticks_position('left')\n",
    "        ax.xaxis.set_ticks_position('bottom')\n",
    "        ax.set_xlabel(param)\n",
    "        ax.set_ylabel(qmeas)\n",
    "        \n",
    "        plt.savefig('{}/NMF_Optimization.{}.{}.svg'.format(path_Figures, param, qmeas))\n",
    "        plt.show()\n",
    "        plt.close()\n",
    "opt_dict.close()"
   ]
  },
  {
   "cell_type": "markdown",
   "metadata": {},
   "source": [
    "# Detect Dynamic Subgraphs"
   ]
  },
  {
   "cell_type": "markdown",
   "metadata": {},
   "source": [
    "## Map NMF Consensus to Identify Seed Subgraphs\n",
    "*__WARNING: Will Delete Existing Output__*"
   ]
  },
  {
   "cell_type": "code",
   "execution_count": null,
   "metadata": {
    "collapsed": false,
    "scrolled": false
   },
   "outputs": [],
   "source": [
    "# Map NMF consensus to all the parameter sets\n",
    "n_opt = 1000\n",
    "job_str = './NMF_consensus_map.py {} {} {}'.format(echobase_path, path_InpData, path_ExpData)\n",
    "qsub_str = 'qsub -t 1-{} {}'.format(n_opt, job_str)\n",
    "\n",
    "os.chdir('./e02-SGE_Scripts/')\n",
    "!sh {qsub_str}\n",
    "os.chdir('../')"
   ]
  },
  {
   "cell_type": "markdown",
   "metadata": {},
   "source": [
    "## Reduce Seed Subgraphs to Consensus Subgraphs\n",
    "*__WARNING: Will Delete Existing Output__*"
   ]
  },
  {
   "cell_type": "code",
   "execution_count": null,
   "metadata": {
    "collapsed": false
   },
   "outputs": [],
   "source": [
    "# Reduce NMF consensus from all seed subgraphs\n",
    "job_str = './NMF_consensus_reduce.py {} {} {}'.format(echobase_path, path_InpData, path_ExpData)\n",
    "qsub_str = 'qsub {}'.format(job_str)\n",
    "\n",
    "os.chdir('./e02-SGE_Scripts/')\n",
    "!sh {qsub_str}\n",
    "os.chdir('../')"
   ]
  },
  {
   "cell_type": "markdown",
   "metadata": {},
   "source": [
    "## Generate Surrogate Subgraphs using Consensus Subgraphs"
   ]
  },
  {
   "cell_type": "code",
   "execution_count": null,
   "metadata": {
    "collapsed": false
   },
   "outputs": [],
   "source": [
    "# Map NMF surrogate\n",
    "n_opt = 1000\n",
    "job_str = './NMF_surrogate_map.py {} {} {}'.format(echobase_path, path_InpData, path_ExpData)\n",
    "qsub_str = 'qsub -t 1-{} {}'.format(n_opt, job_str)\n",
    "\n",
    "os.chdir('./e02-SGE_Scripts/')\n",
    "!sh {qsub_str}\n",
    "os.chdir('../')\n",
    "\n",
    "\n",
    "\"\"\"\n",
    "for nn in xrange(n_opt):\n",
    "    if not os.path.exists('{}/NMF_Surrogate.Param.{}.npz'.format(path_ExpData, nn)): \n",
    "        qsub_str = 'qsub -t {}-{} {}'.format(nn+1, nn+1, job_str)\n",
    "\n",
    "        os.chdir('./e02-SGE_Scripts/')\n",
    "        !sh {qsub_str}\n",
    "        os.chdir('../')\n",
    "\"\"\""
   ]
  },
  {
   "cell_type": "markdown",
   "metadata": {},
   "source": [
    "## Plot Subgraphs"
   ]
  },
  {
   "cell_type": "code",
   "execution_count": null,
   "metadata": {
    "scrolled": false
   },
   "outputs": [],
   "source": [
    "%matplotlib inline\n",
    "\n",
    "# Load the consensus data\n",
    "#data = np.load(\"{}/NMF_Consensus.Param.All.npz\".format(path_ExpData), mmap_mode='r')\n",
    "data = np.load(\"{}/NMF_Surrogate.Param.980.npz\".format(path_ExpData), mmap_mode='r')\n",
    "fac_subnet = data['fac_subnet']\n",
    "fac_coef = data['fac_coef']\n",
    "\n",
    "n_fac = fac_subnet.shape[0]\n",
    "n_conn = fac_subnet.shape[1]\n",
    "n_win = fac_coef.shape[1]\n",
    "\n",
    "# Plot subgraph matrix\n",
    "plt.figure()\n",
    "ax = plt.subplot(111)\n",
    "mat = ax.matshow(fac_subnet.T, aspect=float(n_fac)/n_conn, cmap='rainbow')\n",
    "#plt.colorbar(mat, ax=ax)\n",
    "\n",
    "ax.yaxis.set_ticks_position('left')\n",
    "ax.xaxis.set_ticks_position('bottom')\n",
    "#ax.set_xticks(np.linspace(0, 80, 5))\n",
    "ax.set_ylabel('Functional Interactions')\n",
    "ax.set_xlabel('Subgraphs')\n",
    "\n",
    "plt.savefig('{}/Subgraph-Cfg_Matrix.svg'.format(path_Figures))\n",
    "plt.show()\n",
    "plt.close()      \n",
    "\n",
    "# Plot subgraph adjacency\n",
    "plt.figure()\n",
    "n_row = np.floor(np.sqrt(n_fac))\n",
    "n_col = np.ceil(n_fac / n_row)\n",
    "for ii, subg in enumerate(fac_subnet):\n",
    "    adj = convert_conn_vec_to_adj_matr(subg)\n",
    "\n",
    "    ax = plt.subplot(n_row, n_col, ii+1)\n",
    "    mat = ax.matshow(adj, cmap='rainbow') #, vmin=0, vmax=1)\n",
    "    #plt.colorbar(mat, ax=ax)\n",
    "    ax.set_axis_off()\n",
    "\n",
    "plt.savefig('{}/Subgraph-Adj_Matrices.svg'.format(path_Figures))\n",
    "plt.show()\n",
    "plt.close()      \n",
    "\n",
    "# Plot Coefficients\n",
    "plt.figure()\n",
    "ax = plt.subplot(111)\n",
    "\n",
    "fac_coef = fac_coef.T\n",
    "norm_fac = fac_coef - fac_coef.mean(axis=0)\n",
    "for ff in xrange(n_fac):\n",
    "    ax.plot(ff + norm_fac[:, ff] / (3*np.std(norm_fac[:, ff])), color=[66/256., 152/256., 221./256])\n",
    "\n",
    "# Axis Settings\n",
    "ax.yaxis.set_ticks_position('left')\n",
    "ax.xaxis.set_ticks_position('bottom')\n",
    "ax.set_ylim([-1, n_fac+1])\n",
    "ax.set_xlim([0, int(n_win/28*3)])\n",
    "ax.set_ylabel('Subgraphs')\n",
    "ax.set_xlabel('Time Windows')\n",
    "\n",
    "plt.savefig('{}/Subgraph-Coefs.svg'.format(path_Figures))\n",
    "plt.show()\n",
    "plt.close()  "
   ]
  },
  {
   "cell_type": "markdown",
   "metadata": {},
   "source": [
    "# Detect Dynamic Subgraphs (Split-half validation)"
   ]
  },
  {
   "cell_type": "markdown",
   "metadata": {},
   "source": [
    "## Map NMF Consensus to Identify Seed Subgraphs\n",
    "*__WARNING: Will Delete Existing Output__*"
   ]
  },
  {
   "cell_type": "code",
   "execution_count": null,
   "metadata": {
    "collapsed": false
   },
   "outputs": [],
   "source": [
    "# Map NMF consensus to all the parameter sets\n",
    "n_opt = 1000\n",
    "job_str = './NMF_consensus_map-split_half.py {} {} {}'.format(echobase_path, path_InpData, path_ExpData)\n",
    "qsub_str = 'qsub -t 1-{} {}'.format(n_opt, job_str)\n",
    "\n",
    "os.chdir('./e02-SGE_Scripts/')\n",
    "!sh {qsub_str}\n",
    "os.chdir('../')"
   ]
  },
  {
   "cell_type": "markdown",
   "metadata": {},
   "source": [
    "## Reduce Seed Subgraphs to Consensus Subgraphs\n",
    "*__WARNING: Will Delete Existing Output__*"
   ]
  },
  {
   "cell_type": "code",
   "execution_count": null,
   "metadata": {
    "collapsed": false
   },
   "outputs": [],
   "source": [
    "# Reduce NMF consensus from all seed subgraphs\n",
    "job_str = './NMF_consensus_reduce-split_half.py {} {} {}'.format(echobase_path, path_InpData, path_ExpData)\n",
    "qsub_str = 'qsub {}'.format(job_str)\n",
    "\n",
    "os.chdir('./e02-SGE_Scripts/')\n",
    "!sh {qsub_str}\n",
    "os.chdir('../')"
   ]
  },
  {
   "cell_type": "markdown",
   "metadata": {},
   "source": [
    "## Test-Retest Reliability"
   ]
  },
  {
   "cell_type": "code",
   "execution_count": null,
   "metadata": {
    "collapsed": false,
    "scrolled": false
   },
   "outputs": [],
   "source": [
    "import scipy.optimize as sciopt\n",
    "\n",
    "data_A = np.load('{}/NMF_Consensus.Param.A.All.npz'.format(path_ExpData),\n",
    "                 mmap_mode='r')\n",
    "fac_subnet_A = data_A['fac_subnet']\n",
    "\n",
    "data_B = np.load('{}/NMF_Consensus.Param.B.All.npz'.format(path_ExpData),\n",
    "                 mmap_mode='r')\n",
    "fac_subnet_B = data_B['fac_subnet']\n",
    "\n",
    "n_fac = fac_subnet_A.shape[0]\n",
    "cost_matrix = np.zeros((n_fac, n_fac))\n",
    "\n",
    "for fac_ii in xrange(fac_subnet_A.shape[0]):\n",
    "    for fac_jj in xrange(fac_subnet_B.shape[0]):\n",
    "        cost_matrix[fac_ii, fac_jj] = np.linalg.norm(fac_subnet_A[fac_ii] -\n",
    "                                                     fac_subnet_B[fac_jj])\n",
    "        \n",
    "old_A_ii, new_A_ii = sciopt.linear_sum_assignment(cost_matrix)\n",
    "fac_subnet_A[new_A_ii, :] = fac_subnet_A[old_A_ii, :]\n",
    "\n",
    "true_rho = np.array([stats.pearsonr(fac_subnet_A[fac_i, :], fac_subnet_B[fac_i, :])[0]\n",
    "                     for fac_i in xrange(n_fac)])\n",
    "\n",
    "null_rho = []\n",
    "for fac_i in xrange(n_fac):\n",
    "    for fac_j in xrange(n_fac):\n",
    "        if fac_i == fac_j:\n",
    "            continue\n",
    "            \n",
    "        null_rho.append(stats.pearsonr(fac_subnet_A[fac_i, :], fac_subnet_B[fac_j, :])[0])\n",
    "null_rho = np.array(null_rho)\n",
    "\n",
    "\n",
    "### Plot Test-Retest Reliability\n",
    "plt.figure(dpi=300)\n",
    "ax = plt.subplot(111)\n",
    "\n",
    "alpha = 0.05\n",
    "clr = []\n",
    "for rho in np.sort(true_rho)[::-1]:\n",
    "    if rho > np.percentile(null_rho, 100-100*(alpha/len(true_rho))):\n",
    "        clr.append('b')\n",
    "    else:\n",
    "        clr.append('k')\n",
    "        \n",
    "ax.bar(xrange(len(true_rho)), np.sort(true_rho)[::-1], color=clr, lw=0)\n",
    "ax.hlines(np.percentile(null_rho, 95), -1, n_fac, color='r', lw=1.0, linestyle='--');\n",
    "ax.hlines(np.percentile(null_rho, 5), -1, n_fac, color='r', lw=1.0, linestyle='--');\n",
    "\n",
    "ax.yaxis.set_ticks_position('left')\n",
    "ax.xaxis.set_ticks_position('bottom')\n",
    "ax.set_xlabel('Subgraph Pairs')\n",
    "ax.set_ylabel('Subgraph Correlation')\n",
    "ax.set_xlim([-1, n_fac])\n",
    "ax.set_ylim([-0.3, 1.0])\n",
    "plt.savefig('{}/Test_Retest.svg'.format(path_Figures))\n",
    "plt.show()"
   ]
  },
  {
   "cell_type": "markdown",
   "metadata": {},
   "source": [
    "# Subgraphs of Brain Systems"
   ]
  },
  {
   "cell_type": "markdown",
   "metadata": {},
   "source": [
    "## Load Subgraphs and Expression"
   ]
  },
  {
   "cell_type": "code",
   "execution_count": null,
   "metadata": {
    "collapsed": false
   },
   "outputs": [],
   "source": [
    "# Grab the subgraphs and expression from consensus NMF\n",
    "df_nmf = np.load(\"{}/NMF_Consensus.Param.All.npz\".format(path_ExpData),\n",
    "                 mmap_mode='r')\n",
    "fac_subnet = df_nmf['fac_subnet']\n",
    "fac_coef = df_nmf['fac_coef']\n",
    "n_fac = fac_subnet.shape[0]\n",
    "n_conn = fac_subnet.shape[1]\n",
    "n_node = np.int(np.ceil(np.sqrt(n_conn*2)))\n",
    "n_obs = fac_coef.shape[1]\n",
    "\n",
    "# Retrieve the configuration matrix\n",
    "df_cfg = np.load('{}/Population.Configuration_Matrix.Norm.npz'.format(path_InpData))\n",
    "cfg_obs_lut = np.array(df_cfg['cfg_obs_lut'], dtype=np.int)\n",
    "\n",
    "# Retrieve the Yeo Systems Assignments for Lausanne 125\n",
    "df_to_yeo = np.load('{}/Lausanne125_to_Yeo.npz'.format(path_InpData))\n",
    "n_laus = len(df_to_yeo['yeo_lbl'])\n",
    "n_yeo = len(df_to_yeo['yeo_name'])"
   ]
  },
  {
   "cell_type": "markdown",
   "metadata": {},
   "source": [
    "## Condense Subgraphs into a Dictionary"
   ]
  },
  {
   "cell_type": "code",
   "execution_count": null,
   "metadata": {
    "collapsed": false
   },
   "outputs": [],
   "source": [
    "sys_subgraph_path = '{}/Yeo_Subgraph.All.npz'.format(path_ExpData)\n",
    "if os.path.exists(sys_subgraph_path):\n",
    "    df_subg = np.load('{}/Yeo_Subgraph.All.npz'.format(path_ExpData))\n",
    "else:\n",
    "    system_subgraph = []\n",
    "    for fac_ii in xrange(n_fac):\n",
    "        print('Processing: {} of {}'.format(fac_ii+1, n_fac))\n",
    "        sel_subnet = fac_subnet[fac_ii, :]\n",
    "        sel_coef = fac_coef[fac_ii, :]        \n",
    "\n",
    "        adj = convert_conn_vec_to_adj_matr(sel_subnet)\n",
    "        adj_laus = adj.copy()\n",
    "        cfg_laus = adj_laus[df_to_yeo['laus_triu'][0],\n",
    "                            df_to_yeo['laus_triu'][1]]\n",
    "        \n",
    "        # Compute Brain System Adjacency Matrices\n",
    "        n_yeo = len(df_to_yeo['yeo_name'])\n",
    "        adj_yeo = np.zeros((n_yeo, n_yeo))\n",
    "        \n",
    "        # Permutation       \n",
    "        n_perm = 10000\n",
    "        alpha = 0.05 / len(df_to_yeo['yeo_triu'][0])\n",
    "        sel_subnet_null = np.array([np.random.permutation(sel_subnet)\n",
    "                                    for n_ii in xrange(n_perm)])\n",
    "        \n",
    "        # Mean inter/intra system edge wt\n",
    "        for sys_ix, sys_iy in zip(*df_to_yeo['yeo_triu']):\n",
    "            sys1 = df_to_yeo['yeo_name'][sys_ix]\n",
    "            sys2 = df_to_yeo['yeo_name'][sys_iy]\n",
    "            sys1_ix = np.flatnonzero(df_to_yeo['yeo_lbl'][df_to_yeo['laus_triu'][0]] == sys1)\n",
    "            sys1_iy = np.flatnonzero(df_to_yeo['yeo_lbl'][df_to_yeo['laus_triu'][1]] == sys1)    \n",
    "            sys2_ix = np.flatnonzero(df_to_yeo['yeo_lbl'][df_to_yeo['laus_triu'][0]] == sys2)\n",
    "            sys2_iy = np.flatnonzero(df_to_yeo['yeo_lbl'][df_to_yeo['laus_triu'][1]] == sys2)\n",
    "\n",
    "            inter_sys_ii = np.unique(np.concatenate((np.intersect1d(sys1_ix, sys2_iy),\n",
    "                                                     np.intersect1d(sys1_iy, sys2_ix))))\n",
    "            \n",
    "            mean_edge_sys1_sys2 = np.mean(sel_subnet[inter_sys_ii])\n",
    "\n",
    "            null_mean = np.mean(sel_subnet_null[:, inter_sys_ii], axis=1)\n",
    "            if np.mean(null_mean > mean_edge_sys1_sys2) < alpha:\n",
    "                adj_yeo[sys_ix, sys_iy] = mean_edge_sys1_sys2\n",
    "                \n",
    "            else:\n",
    "                # If the system connectivity is not greater than chance, remove those connections\n",
    "                cfg_laus[inter_sys_ii] = 0\n",
    "                \n",
    "        adj_yeo = adj_yeo + np.triu(adj_yeo, k=1).T\n",
    "        adj_laus = convert_conn_vec_to_adj_matr(cfg_laus)\n",
    "        \n",
    "        # Generate subgraph dictionary\n",
    "        system_subgraph.append({'Subgraph_ID': fac_ii+1,\n",
    "                                'subnet_yeo': adj_yeo,\n",
    "                                'subnet_laus': adj_laus[df_to_yeo['sort_laus_to_yeo'], :][:, df_to_yeo['sort_laus_to_yeo']],\n",
    "                                'subnet_roi': adj[df_to_yeo['sort_laus_to_yeo'], :][:, df_to_yeo['sort_laus_to_yeo']],\n",
    "                                'expr_coef': sel_coef})\n",
    "        \n",
    "    np.savez('{}/Yeo_Subgraph.All.npz'.format(path_ExpData),\n",
    "             system_subgraph=system_subgraph)"
   ]
  },
  {
   "cell_type": "markdown",
   "metadata": {},
   "source": [
    "## Plot Subgraph Adjacency Matrices"
   ]
  },
  {
   "cell_type": "code",
   "execution_count": null,
   "metadata": {
    "collapsed": false,
    "scrolled": false
   },
   "outputs": [],
   "source": [
    "# Plot the subgraphs\n",
    "plt.figure(figsize=(5,5), dpi=300);\n",
    "for ii, fac_ii in enumerate(xrange(n_fac)): #enumerate(sort_fac):\n",
    "    sel_fac_subnet = fac_subnet[fac_ii, :]\n",
    "    \n",
    "    adj = convert_conn_vec_to_adj_matr(sel_fac_subnet)\n",
    "    adj_yeo = adj[df_to_yeo['sort_laus_to_yeo'], :][:, df_to_yeo['sort_laus_to_yeo']]\n",
    "    \n",
    "    # Plot\n",
    "    ax = plt.subplot(4, 4, ii+1)\n",
    "    mat = ax.matshow(adj_yeo,\n",
    "                     cmap='magma', vmin=1.1*sel_fac_subnet.min());\n",
    "    #plt.colorbar(mat, ax=ax, fraction=0.046, pad=0.04)\n",
    "\n",
    "    for xx in df_to_yeo['yeo_adj_demarc']:\n",
    "        ax.vlines(xx, 0, n_laus, color='w', lw=0.25)\n",
    "        ax.hlines(xx, 0, n_laus, color='w', lw=0.25)\n",
    "\n",
    "    ax.yaxis.set_ticks_position('left')\n",
    "    ax.xaxis.set_ticks_position('bottom')\n",
    "    ax.yaxis.set_tick_params(width=0)                                \n",
    "    ax.xaxis.set_tick_params(width=0)\n",
    "    ax.grid(False)\n",
    "    ax.tick_params(axis='both', which='major', pad=-3)\n",
    "\n",
    "    ax.set_xticks((df_to_yeo['yeo_adj_demarc'][:-1] + (np.diff(df_to_yeo['yeo_adj_demarc']) * 0.5)));\n",
    "    ax.set_xticklabels(df_to_yeo['yeo_name'], fontsize=3.0, rotation=45)\n",
    "\n",
    "    ax.set_yticks((df_to_yeo['yeo_adj_demarc'][:-1] + (np.diff(df_to_yeo['yeo_adj_demarc']) * 0.5)));\n",
    "    ax.set_yticklabels(df_to_yeo['yeo_name'], fontsize=3.0, rotation=45)\n",
    "    \n",
    "    ax.set_title('Subgraph: {} : {}'.format(fac_ii+1, del_expr[fac_ii]), fontsize=4.0)\n",
    "\n",
    "plt.show()"
   ]
  },
  {
   "cell_type": "markdown",
   "metadata": {},
   "source": [
    "# Visualize Subgraphs"
   ]
  },
  {
   "cell_type": "markdown",
   "metadata": {},
   "source": [
    "## Surface render brain systems"
   ]
  },
  {
   "cell_type": "code",
   "execution_count": null,
   "metadata": {
    "collapsed": false
   },
   "outputs": [],
   "source": [
    "pixmap_path = '{}/brain_system_pixmap.npz'.format(path_Figures)\n",
    "if os.path.exists(pixmap_path):\n",
    "    brain_system_pixmap = np.load(pixmap_path)\n",
    "else:\n",
    "    from mayavi import mlab\n",
    "    import nibabel as nib\n",
    "\n",
    "    brain_system_pixmap = {}\n",
    "    brain_system_rgbcol = {}\n",
    "\n",
    "    sys_scalar = [15, 18, 6, 0, 3, 4, 2, 8, 10]\n",
    "    view_angle = {'Sag_PA': [0.0, 90.0],\n",
    "                  'Sag_AP': [180.0, 90.0]}\n",
    "\n",
    "    # Get the pial surface recons\n",
    "    pial_hemi = {'LH': {},\n",
    "                 'RH': {}}\n",
    "    pial_hemi['LH']['vert'], pial_hemi['LH']['tria'] = nib.freesurfer.io.read_geometry('{}/BrainRenderSubject15/surf/lh.pial'.format(path_CoreData))\n",
    "    pial_hemi['RH']['vert'], pial_hemi['RH']['tria'] = nib.freesurfer.io.read_geometry('{}/BrainRenderSubject15/surf/rh.pial'.format(path_CoreData))\n",
    "\n",
    "    # Get the Lausanne label files for each ROI\n",
    "    label_files = []\n",
    "    for roi in df_to_yeo['df_laus_yeo']:\n",
    "        laus_lbl = roi[1].lower()\n",
    "        hemi = roi[2].lower()\n",
    "\n",
    "        # Parse the atlas name and find the label file if it exists\n",
    "        lbl_file = '{}.{}.label'.format(hemi, laus_lbl)\n",
    "        lbl_file = lbl_file.replace(' ', '')\n",
    "\n",
    "        label_files.append('{}/BrainRenderSubject15/label/regenerated_{}_125/{}'.format(path_CoreData, hemi, lbl_file))\n",
    "\n",
    "    # Iterate over hemisphere of the pial surface\n",
    "    for hemi in pial_hemi.keys():\n",
    "        n_vert = len(pial_hemi[hemi]['vert'])\n",
    "\n",
    "        # Iterate over brain system\n",
    "        for sys_id, sys_lbl in enumerate(df_to_yeo['yeo_name']):\n",
    "            print(sys_lbl)\n",
    "            sys_ix = np.flatnonzero(df_to_yeo['yeo_lbl'] == sys_lbl)\n",
    "\n",
    "            # Find the label file for each ROI and get vertices\n",
    "            if sys_lbl == 'SUB':\n",
    "                pial_scalars = sys_scalar[sys_id]*np.ones(n_vert)\n",
    "            else:\n",
    "                pial_scalars = 15*np.ones(n_vert)\n",
    "            \n",
    "            \n",
    "            for roi_ix, (roi, lbl_file) in enumerate(zip(df_to_yeo['df_laus_yeo'], label_files)):\n",
    "                if roi[2] != hemi:\n",
    "                    continue\n",
    "\n",
    "                if not os.path.exists(lbl_file):\n",
    "                    continue\n",
    "\n",
    "                # Load the file and add scalar to the vertices\n",
    "                parc_lbl = nib.freesurfer.io.read_label(lbl_file)                \n",
    "                if roi_ix in sys_ix:\n",
    "                    pial_scalars[parc_lbl] = sys_scalar[sys_id]\n",
    "                else:\n",
    "                    pial_scalars[parc_lbl] = 15               \n",
    "\n",
    "            # Plot the colored Brain System\n",
    "            fig = mlab.figure(bgcolor=(1.0, 1.0, 1.0))\n",
    "            src = mlab.pipeline.triangular_mesh_source(pial_hemi[hemi]['vert'][:,0],\n",
    "                                                       pial_hemi[hemi]['vert'][:,1],\n",
    "                                                       pial_hemi[hemi]['vert'][:,2],\n",
    "                                                       pial_hemi[hemi]['tria'], scalars=pial_scalars, opacity=0.75, figure=fig)\n",
    "            norms = mlab.pipeline.poly_data_normals(src, figure=fig)\n",
    "            norms.filter.splitting = False\n",
    "            surf = mlab.pipeline.surface(norms, figure=fig)\n",
    "            surf.parent.scalar_lut_manager.set(lut_mode='Vega20', data_range=[0, 19], use_default_range=False)\n",
    "            lut = surf.module_manager.scalar_lut_manager.lut.table.to_array()\n",
    "            lut[188:213, 3] = 220\n",
    "            surf.module_manager.scalar_lut_manager.lut.table = lut\n",
    "\n",
    "            # Rotate the view and save a screenshot\n",
    "            pixmap = {}\n",
    "            for ang in view_angle.keys():\n",
    "                mlab.view(azimuth=view_angle[ang][0],\n",
    "                          elevation=view_angle[ang][1])\n",
    "                pixmap[ang] = mlab.screenshot(mode='rgba')\n",
    "            mlab.close(all=True)\n",
    "            \n",
    "            # Save to system pixmap dictionary\n",
    "            if not sys_lbl in brain_system_pixmap.keys():\n",
    "                brain_system_pixmap[sys_lbl] = {}\n",
    "            \n",
    "            if not hemi in brain_system_pixmap[sys_lbl].keys():\n",
    "                brain_system_pixmap[sys_lbl][hemi] = pixmap\n",
    "                \n",
    "            # Save RGB\n",
    "            brain_system_rgbcol[sys_lbl] = lut[(sys_scalar[sys_id]*lut.shape[0]/20.), :]\n",
    "\n",
    "    np.savez(pixmap_path,\n",
    "             brain_system_pixmap=brain_system_pixmap,\n",
    "             brain_system_rgbcol=brain_system_rgbcol)"
   ]
  },
  {
   "cell_type": "markdown",
   "metadata": {},
   "source": [
    "## Circle Plot"
   ]
  },
  {
   "cell_type": "code",
   "execution_count": null,
   "metadata": {
    "collapsed": false,
    "scrolled": false
   },
   "outputs": [],
   "source": [
    "from matplotlib.offsetbox import AnnotationBbox, OffsetImage, TextArea\n",
    "from scipy import ndimage\n",
    "\n",
    "# Assign color for each circle node based on associated brain system color\n",
    "node_clr = np.array([brain_system_pixmap['brain_system_rgbcol'][()][sys_lbl][:3] / 255\n",
    "                     for sys_lbl in df_to_yeo['yeo_lbl'][df_to_yeo['sort_laus_to_yeo']]])\n",
    "\n",
    "# Arrange nodes around the circle\n",
    "system_pos = []\n",
    "node_rads = np.linspace(0, 2*np.pi - (2*np.pi/n_laus), n_laus)\n",
    "for sys_ii, sys_nm in enumerate(df_to_yeo['yeo_name']):\n",
    "    sys_rad = np.mean(node_rads[df_to_yeo['yeo_lbl'] == sys_nm])\n",
    "    dd = 16\n",
    "    system_pos.append((sys_rad, dd))\n",
    "\n",
    "# Render the circle plot\n",
    "for fac_ii in xrange(n_fac):\n",
    "    sel_subnet = df_subg['system_subgraph'][fac_ii]['subnet_laus']\n",
    "    sys_con = convert_adj_matr_to_cfg_matr(np.expand_dims(sel_subnet, axis=0)).squeeze()\n",
    "    \n",
    "    fig, ax = Echobase.Plotting.render_circle_connectivity.draw(conn_list=sys_con,\n",
    "                                                                conn_pct=[99, 100],\n",
    "                                                                conn_cmap='YlGnBu',\n",
    "                                                                conn_linewidth=0.5,\n",
    "                                                                node_color=node_clr)    \n",
    "       \n",
    "    fig.savefig('{}/Circle_Subgraph.{}.svg'.format(path_Figures, fac_ii+1))\n",
    "    plt.close()"
   ]
  }
 ],
 "metadata": {
  "anaconda-cloud": {},
  "kernelspec": {
   "display_name": "Python 2",
   "language": "python",
   "name": "python2"
  },
  "language_info": {
   "codemirror_mode": {
    "name": "ipython",
    "version": 2
   },
   "file_extension": ".py",
   "mimetype": "text/x-python",
   "name": "python",
   "nbconvert_exporter": "python",
   "pygments_lexer": "ipython2",
   "version": "2.7.13"
  },
  "latex_envs": {
   "LaTeX_envs_menu_present": true,
   "bibliofile": "biblio.bib",
   "cite_by": "apalike",
   "current_citInitial": 1,
   "eqLabelWithNumbers": true,
   "eqNumInitial": 0,
   "labels_anchors": false,
   "latex_user_defs": false,
   "report_style_numbering": false,
   "user_envs_cfg": false
  },
  "toc": {
   "colors": {
    "hover_highlight": "#DAA520",
    "running_highlight": "#FF0000",
    "selected_highlight": "#FFD700"
   },
   "moveMenuLeft": true,
   "nav_menu": {
    "height": "102px",
    "width": "252px"
   },
   "navigate_menu": true,
   "number_sections": true,
   "sideBar": true,
   "threshold": 4,
   "toc_cell": true,
   "toc_number_sections": true,
   "toc_position": {
    "height": "897px",
    "left": "0px",
    "right": "1707px",
    "top": "106px",
    "width": "329px"
   },
   "toc_section_display": "block",
   "toc_threshold": 6,
   "toc_window_display": true
  }
 },
 "nbformat": 4,
 "nbformat_minor": 1
}
